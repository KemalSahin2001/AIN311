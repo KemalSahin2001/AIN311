{
 "cells": [
  {
   "cell_type": "code",
   "execution_count": 17,
   "metadata": {},
   "outputs": [],
   "source": [
    "import pandas as pd \n",
    "import tensorflow as tf\n",
    "from sklearn.preprocessing import MinMaxScaler\n",
    "from tensorflow.keras.models import Sequential\n",
    "from tensorflow.keras.layers import Dense, Dropout, LSTM\n",
    "from tensorflow.keras.optimizers import Adam\n",
    "import matplotlib.pyplot as plt\n",
    "import numpy as np"
   ]
  },
  {
   "cell_type": "code",
   "execution_count": 2,
   "metadata": {},
   "outputs": [],
   "source": [
    "train = pd.read_csv(\"train.csv\")\n",
    "test = pd.read_csv(\"test.csv\")\n",
    "test.drop([\"Clearsky DHI\",\"Clearsky DNI\",\"Clearsky GHI\"],axis=1,inplace=True)\n",
    "test_y = pd.read_csv(\"sample_submission.csv\")\n",
    "correlated_Columns = [\"Clearsky DHI\",\"Clearsky DNI\",\"Solar Zenith Angle\",\"Temperature\"]\n",
    "test = pd.concat([test,test_y],axis=1)"
   ]
  },
  {
   "cell_type": "code",
   "execution_count": 3,
   "metadata": {},
   "outputs": [],
   "source": [
    "Scaler = MinMaxScaler()\n",
    "\n"
   ]
  },
  {
   "cell_type": "code",
   "execution_count": 4,
   "metadata": {},
   "outputs": [],
   "source": [
    "train_GHI = train[\"Clearsky GHI\"].values\n",
    "train.drop([\"Clearsky GHI\"],axis=1,inplace=True)\n",
    "train.drop(correlated_Columns,axis=1,inplace=True)\n",
    "test_GHI = test[\"Clearsky GHI\"].values\n",
    "\n",
    "test.drop([\"Clearsky GHI\"],axis=1,inplace=True)\n",
    "test.drop(correlated_Columns,axis=1,inplace=True)\n",
    "#train_GHI = Scaler.fit_transform(train_GHI.reshape(-1,1))\n",
    "#test_GHI = Scaler.fit_transform(test_GHI.reshape(-1,1))\n",
    "\n"
   ]
  },
  {
   "cell_type": "code",
   "execution_count": 5,
   "metadata": {},
   "outputs": [
    {
     "data": {
      "text/html": [
       "<div>\n",
       "<style scoped>\n",
       "    .dataframe tbody tr th:only-of-type {\n",
       "        vertical-align: middle;\n",
       "    }\n",
       "\n",
       "    .dataframe tbody tr th {\n",
       "        vertical-align: top;\n",
       "    }\n",
       "\n",
       "    .dataframe thead th {\n",
       "        text-align: right;\n",
       "    }\n",
       "</style>\n",
       "<table border=\"1\" class=\"dataframe\">\n",
       "  <thead>\n",
       "    <tr style=\"text-align: right;\">\n",
       "      <th></th>\n",
       "      <th>Year</th>\n",
       "      <th>Month</th>\n",
       "      <th>Day</th>\n",
       "      <th>Hour</th>\n",
       "      <th>Minute</th>\n",
       "      <th>Cloud Type</th>\n",
       "      <th>Dew Point</th>\n",
       "      <th>Pressure</th>\n",
       "      <th>Relative Humidity</th>\n",
       "      <th>Precipitable Water</th>\n",
       "      <th>Wind Direction</th>\n",
       "      <th>Wind Speed</th>\n",
       "      <th>Fill Flag</th>\n",
       "    </tr>\n",
       "  </thead>\n",
       "  <tbody>\n",
       "    <tr>\n",
       "      <th>0</th>\n",
       "      <td>2009</td>\n",
       "      <td>1</td>\n",
       "      <td>1</td>\n",
       "      <td>0</td>\n",
       "      <td>0</td>\n",
       "      <td>0</td>\n",
       "      <td>0.0</td>\n",
       "      <td>1010</td>\n",
       "      <td>75.34</td>\n",
       "      <td>0.499</td>\n",
       "      <td>346.1</td>\n",
       "      <td>3.1</td>\n",
       "      <td>0</td>\n",
       "    </tr>\n",
       "    <tr>\n",
       "      <th>1</th>\n",
       "      <td>2009</td>\n",
       "      <td>1</td>\n",
       "      <td>1</td>\n",
       "      <td>0</td>\n",
       "      <td>30</td>\n",
       "      <td>0</td>\n",
       "      <td>1.0</td>\n",
       "      <td>1010</td>\n",
       "      <td>80.81</td>\n",
       "      <td>0.490</td>\n",
       "      <td>346.1</td>\n",
       "      <td>3.1</td>\n",
       "      <td>0</td>\n",
       "    </tr>\n",
       "    <tr>\n",
       "      <th>2</th>\n",
       "      <td>2009</td>\n",
       "      <td>1</td>\n",
       "      <td>1</td>\n",
       "      <td>1</td>\n",
       "      <td>0</td>\n",
       "      <td>4</td>\n",
       "      <td>0.0</td>\n",
       "      <td>1010</td>\n",
       "      <td>78.27</td>\n",
       "      <td>0.482</td>\n",
       "      <td>347.9</td>\n",
       "      <td>3.2</td>\n",
       "      <td>0</td>\n",
       "    </tr>\n",
       "    <tr>\n",
       "      <th>3</th>\n",
       "      <td>2009</td>\n",
       "      <td>1</td>\n",
       "      <td>1</td>\n",
       "      <td>1</td>\n",
       "      <td>30</td>\n",
       "      <td>4</td>\n",
       "      <td>0.0</td>\n",
       "      <td>1010</td>\n",
       "      <td>78.27</td>\n",
       "      <td>0.478</td>\n",
       "      <td>347.9</td>\n",
       "      <td>3.1</td>\n",
       "      <td>0</td>\n",
       "    </tr>\n",
       "    <tr>\n",
       "      <th>4</th>\n",
       "      <td>2009</td>\n",
       "      <td>1</td>\n",
       "      <td>1</td>\n",
       "      <td>2</td>\n",
       "      <td>0</td>\n",
       "      <td>4</td>\n",
       "      <td>0.0</td>\n",
       "      <td>1010</td>\n",
       "      <td>76.45</td>\n",
       "      <td>0.475</td>\n",
       "      <td>350.0</td>\n",
       "      <td>3.0</td>\n",
       "      <td>0</td>\n",
       "    </tr>\n",
       "    <tr>\n",
       "      <th>...</th>\n",
       "      <td>...</td>\n",
       "      <td>...</td>\n",
       "      <td>...</td>\n",
       "      <td>...</td>\n",
       "      <td>...</td>\n",
       "      <td>...</td>\n",
       "      <td>...</td>\n",
       "      <td>...</td>\n",
       "      <td>...</td>\n",
       "      <td>...</td>\n",
       "      <td>...</td>\n",
       "      <td>...</td>\n",
       "      <td>...</td>\n",
       "    </tr>\n",
       "    <tr>\n",
       "      <th>175291</th>\n",
       "      <td>2018</td>\n",
       "      <td>12</td>\n",
       "      <td>31</td>\n",
       "      <td>21</td>\n",
       "      <td>30</td>\n",
       "      <td>4</td>\n",
       "      <td>19.4</td>\n",
       "      <td>1008</td>\n",
       "      <td>91.77</td>\n",
       "      <td>3.700</td>\n",
       "      <td>204.0</td>\n",
       "      <td>3.5</td>\n",
       "      <td>100</td>\n",
       "    </tr>\n",
       "    <tr>\n",
       "      <th>175292</th>\n",
       "      <td>2018</td>\n",
       "      <td>12</td>\n",
       "      <td>31</td>\n",
       "      <td>22</td>\n",
       "      <td>0</td>\n",
       "      <td>4</td>\n",
       "      <td>19.1</td>\n",
       "      <td>1008</td>\n",
       "      <td>93.88</td>\n",
       "      <td>3.800</td>\n",
       "      <td>209.0</td>\n",
       "      <td>3.2</td>\n",
       "      <td>100</td>\n",
       "    </tr>\n",
       "    <tr>\n",
       "      <th>175293</th>\n",
       "      <td>2018</td>\n",
       "      <td>12</td>\n",
       "      <td>31</td>\n",
       "      <td>22</td>\n",
       "      <td>30</td>\n",
       "      <td>7</td>\n",
       "      <td>19.1</td>\n",
       "      <td>1008</td>\n",
       "      <td>96.83</td>\n",
       "      <td>3.800</td>\n",
       "      <td>208.0</td>\n",
       "      <td>2.6</td>\n",
       "      <td>57</td>\n",
       "    </tr>\n",
       "    <tr>\n",
       "      <th>175294</th>\n",
       "      <td>2018</td>\n",
       "      <td>12</td>\n",
       "      <td>31</td>\n",
       "      <td>23</td>\n",
       "      <td>0</td>\n",
       "      <td>7</td>\n",
       "      <td>18.7</td>\n",
       "      <td>1009</td>\n",
       "      <td>96.84</td>\n",
       "      <td>3.700</td>\n",
       "      <td>206.0</td>\n",
       "      <td>2.1</td>\n",
       "      <td>0</td>\n",
       "    </tr>\n",
       "    <tr>\n",
       "      <th>175295</th>\n",
       "      <td>2018</td>\n",
       "      <td>12</td>\n",
       "      <td>31</td>\n",
       "      <td>23</td>\n",
       "      <td>30</td>\n",
       "      <td>7</td>\n",
       "      <td>18.7</td>\n",
       "      <td>1009</td>\n",
       "      <td>96.84</td>\n",
       "      <td>3.700</td>\n",
       "      <td>206.0</td>\n",
       "      <td>2.1</td>\n",
       "      <td>0</td>\n",
       "    </tr>\n",
       "  </tbody>\n",
       "</table>\n",
       "<p>175296 rows × 13 columns</p>\n",
       "</div>"
      ],
      "text/plain": [
       "        Year  Month  Day  Hour  Minute  Cloud Type  Dew Point  Pressure  \\\n",
       "0       2009      1    1     0       0           0        0.0      1010   \n",
       "1       2009      1    1     0      30           0        1.0      1010   \n",
       "2       2009      1    1     1       0           4        0.0      1010   \n",
       "3       2009      1    1     1      30           4        0.0      1010   \n",
       "4       2009      1    1     2       0           4        0.0      1010   \n",
       "...      ...    ...  ...   ...     ...         ...        ...       ...   \n",
       "175291  2018     12   31    21      30           4       19.4      1008   \n",
       "175292  2018     12   31    22       0           4       19.1      1008   \n",
       "175293  2018     12   31    22      30           7       19.1      1008   \n",
       "175294  2018     12   31    23       0           7       18.7      1009   \n",
       "175295  2018     12   31    23      30           7       18.7      1009   \n",
       "\n",
       "        Relative Humidity  Precipitable Water  Wind Direction  Wind Speed  \\\n",
       "0                   75.34               0.499           346.1         3.1   \n",
       "1                   80.81               0.490           346.1         3.1   \n",
       "2                   78.27               0.482           347.9         3.2   \n",
       "3                   78.27               0.478           347.9         3.1   \n",
       "4                   76.45               0.475           350.0         3.0   \n",
       "...                   ...                 ...             ...         ...   \n",
       "175291              91.77               3.700           204.0         3.5   \n",
       "175292              93.88               3.800           209.0         3.2   \n",
       "175293              96.83               3.800           208.0         2.6   \n",
       "175294              96.84               3.700           206.0         2.1   \n",
       "175295              96.84               3.700           206.0         2.1   \n",
       "\n",
       "        Fill Flag  \n",
       "0               0  \n",
       "1               0  \n",
       "2               0  \n",
       "3               0  \n",
       "4               0  \n",
       "...           ...  \n",
       "175291        100  \n",
       "175292        100  \n",
       "175293         57  \n",
       "175294          0  \n",
       "175295          0  \n",
       "\n",
       "[175296 rows x 13 columns]"
      ]
     },
     "execution_count": 5,
     "metadata": {},
     "output_type": "execute_result"
    }
   ],
   "source": [
    "train"
   ]
  },
  {
   "cell_type": "code",
   "execution_count": 6,
   "metadata": {},
   "outputs": [],
   "source": [
    "train[\"Datetime\"] = pd.to_datetime(train[['Year', 'Month', 'Day', 'Hour', 'Minute']])\n",
    "test[\"Datetime\"] = pd.to_datetime(test[['Year', 'Month', 'Day', 'Hour', 'Minute']])\n"
   ]
  },
  {
   "cell_type": "code",
   "execution_count": 7,
   "metadata": {},
   "outputs": [],
   "source": [
    "train.set_index(\"Datetime\",inplace=True)\n",
    "test.set_index(\"Datetime\",inplace=True)"
   ]
  },
  {
   "cell_type": "code",
   "execution_count": 8,
   "metadata": {},
   "outputs": [],
   "source": [
    "train.drop([\"Year\",\"Month\",\"Day\",\"Hour\",\"Minute\"],axis=1,inplace=True)\n",
    "test.drop([\"Year\",\"Month\",\"Day\",\"Hour\",\"Minute\"],axis=1,inplace=True)"
   ]
  },
  {
   "cell_type": "code",
   "execution_count": 9,
   "metadata": {},
   "outputs": [
    {
     "data": {
      "text/html": [
       "<div>\n",
       "<style scoped>\n",
       "    .dataframe tbody tr th:only-of-type {\n",
       "        vertical-align: middle;\n",
       "    }\n",
       "\n",
       "    .dataframe tbody tr th {\n",
       "        vertical-align: top;\n",
       "    }\n",
       "\n",
       "    .dataframe thead th {\n",
       "        text-align: right;\n",
       "    }\n",
       "</style>\n",
       "<table border=\"1\" class=\"dataframe\">\n",
       "  <thead>\n",
       "    <tr style=\"text-align: right;\">\n",
       "      <th></th>\n",
       "      <th>Cloud Type</th>\n",
       "      <th>Dew Point</th>\n",
       "      <th>Pressure</th>\n",
       "      <th>Relative Humidity</th>\n",
       "      <th>Precipitable Water</th>\n",
       "      <th>Wind Direction</th>\n",
       "      <th>Wind Speed</th>\n",
       "      <th>Fill Flag</th>\n",
       "    </tr>\n",
       "    <tr>\n",
       "      <th>Datetime</th>\n",
       "      <th></th>\n",
       "      <th></th>\n",
       "      <th></th>\n",
       "      <th></th>\n",
       "      <th></th>\n",
       "      <th></th>\n",
       "      <th></th>\n",
       "      <th></th>\n",
       "    </tr>\n",
       "  </thead>\n",
       "  <tbody>\n",
       "    <tr>\n",
       "      <th>2009-01-01 00:00:00</th>\n",
       "      <td>0</td>\n",
       "      <td>0.0</td>\n",
       "      <td>1010</td>\n",
       "      <td>75.34</td>\n",
       "      <td>0.499</td>\n",
       "      <td>346.1</td>\n",
       "      <td>3.1</td>\n",
       "      <td>0</td>\n",
       "    </tr>\n",
       "    <tr>\n",
       "      <th>2009-01-01 00:30:00</th>\n",
       "      <td>0</td>\n",
       "      <td>1.0</td>\n",
       "      <td>1010</td>\n",
       "      <td>80.81</td>\n",
       "      <td>0.490</td>\n",
       "      <td>346.1</td>\n",
       "      <td>3.1</td>\n",
       "      <td>0</td>\n",
       "    </tr>\n",
       "    <tr>\n",
       "      <th>2009-01-01 01:00:00</th>\n",
       "      <td>4</td>\n",
       "      <td>0.0</td>\n",
       "      <td>1010</td>\n",
       "      <td>78.27</td>\n",
       "      <td>0.482</td>\n",
       "      <td>347.9</td>\n",
       "      <td>3.2</td>\n",
       "      <td>0</td>\n",
       "    </tr>\n",
       "    <tr>\n",
       "      <th>2009-01-01 01:30:00</th>\n",
       "      <td>4</td>\n",
       "      <td>0.0</td>\n",
       "      <td>1010</td>\n",
       "      <td>78.27</td>\n",
       "      <td>0.478</td>\n",
       "      <td>347.9</td>\n",
       "      <td>3.1</td>\n",
       "      <td>0</td>\n",
       "    </tr>\n",
       "    <tr>\n",
       "      <th>2009-01-01 02:00:00</th>\n",
       "      <td>4</td>\n",
       "      <td>0.0</td>\n",
       "      <td>1010</td>\n",
       "      <td>76.45</td>\n",
       "      <td>0.475</td>\n",
       "      <td>350.0</td>\n",
       "      <td>3.0</td>\n",
       "      <td>0</td>\n",
       "    </tr>\n",
       "    <tr>\n",
       "      <th>...</th>\n",
       "      <td>...</td>\n",
       "      <td>...</td>\n",
       "      <td>...</td>\n",
       "      <td>...</td>\n",
       "      <td>...</td>\n",
       "      <td>...</td>\n",
       "      <td>...</td>\n",
       "      <td>...</td>\n",
       "    </tr>\n",
       "    <tr>\n",
       "      <th>2018-12-31 21:30:00</th>\n",
       "      <td>4</td>\n",
       "      <td>19.4</td>\n",
       "      <td>1008</td>\n",
       "      <td>91.77</td>\n",
       "      <td>3.700</td>\n",
       "      <td>204.0</td>\n",
       "      <td>3.5</td>\n",
       "      <td>100</td>\n",
       "    </tr>\n",
       "    <tr>\n",
       "      <th>2018-12-31 22:00:00</th>\n",
       "      <td>4</td>\n",
       "      <td>19.1</td>\n",
       "      <td>1008</td>\n",
       "      <td>93.88</td>\n",
       "      <td>3.800</td>\n",
       "      <td>209.0</td>\n",
       "      <td>3.2</td>\n",
       "      <td>100</td>\n",
       "    </tr>\n",
       "    <tr>\n",
       "      <th>2018-12-31 22:30:00</th>\n",
       "      <td>7</td>\n",
       "      <td>19.1</td>\n",
       "      <td>1008</td>\n",
       "      <td>96.83</td>\n",
       "      <td>3.800</td>\n",
       "      <td>208.0</td>\n",
       "      <td>2.6</td>\n",
       "      <td>57</td>\n",
       "    </tr>\n",
       "    <tr>\n",
       "      <th>2018-12-31 23:00:00</th>\n",
       "      <td>7</td>\n",
       "      <td>18.7</td>\n",
       "      <td>1009</td>\n",
       "      <td>96.84</td>\n",
       "      <td>3.700</td>\n",
       "      <td>206.0</td>\n",
       "      <td>2.1</td>\n",
       "      <td>0</td>\n",
       "    </tr>\n",
       "    <tr>\n",
       "      <th>2018-12-31 23:30:00</th>\n",
       "      <td>7</td>\n",
       "      <td>18.7</td>\n",
       "      <td>1009</td>\n",
       "      <td>96.84</td>\n",
       "      <td>3.700</td>\n",
       "      <td>206.0</td>\n",
       "      <td>2.1</td>\n",
       "      <td>0</td>\n",
       "    </tr>\n",
       "  </tbody>\n",
       "</table>\n",
       "<p>175296 rows × 8 columns</p>\n",
       "</div>"
      ],
      "text/plain": [
       "                     Cloud Type  Dew Point  Pressure  Relative Humidity  \\\n",
       "Datetime                                                                  \n",
       "2009-01-01 00:00:00           0        0.0      1010              75.34   \n",
       "2009-01-01 00:30:00           0        1.0      1010              80.81   \n",
       "2009-01-01 01:00:00           4        0.0      1010              78.27   \n",
       "2009-01-01 01:30:00           4        0.0      1010              78.27   \n",
       "2009-01-01 02:00:00           4        0.0      1010              76.45   \n",
       "...                         ...        ...       ...                ...   \n",
       "2018-12-31 21:30:00           4       19.4      1008              91.77   \n",
       "2018-12-31 22:00:00           4       19.1      1008              93.88   \n",
       "2018-12-31 22:30:00           7       19.1      1008              96.83   \n",
       "2018-12-31 23:00:00           7       18.7      1009              96.84   \n",
       "2018-12-31 23:30:00           7       18.7      1009              96.84   \n",
       "\n",
       "                     Precipitable Water  Wind Direction  Wind Speed  Fill Flag  \n",
       "Datetime                                                                        \n",
       "2009-01-01 00:00:00               0.499           346.1         3.1          0  \n",
       "2009-01-01 00:30:00               0.490           346.1         3.1          0  \n",
       "2009-01-01 01:00:00               0.482           347.9         3.2          0  \n",
       "2009-01-01 01:30:00               0.478           347.9         3.1          0  \n",
       "2009-01-01 02:00:00               0.475           350.0         3.0          0  \n",
       "...                                 ...             ...         ...        ...  \n",
       "2018-12-31 21:30:00               3.700           204.0         3.5        100  \n",
       "2018-12-31 22:00:00               3.800           209.0         3.2        100  \n",
       "2018-12-31 22:30:00               3.800           208.0         2.6         57  \n",
       "2018-12-31 23:00:00               3.700           206.0         2.1          0  \n",
       "2018-12-31 23:30:00               3.700           206.0         2.1          0  \n",
       "\n",
       "[175296 rows x 8 columns]"
      ]
     },
     "execution_count": 9,
     "metadata": {},
     "output_type": "execute_result"
    }
   ],
   "source": [
    "train"
   ]
  },
  {
   "cell_type": "code",
   "execution_count": 10,
   "metadata": {},
   "outputs": [],
   "source": [
    "train = Scaler.fit_transform(train)\n",
    "test = Scaler.fit_transform(test)\n",
    "\n"
   ]
  },
  {
   "cell_type": "code",
   "execution_count": 11,
   "metadata": {},
   "outputs": [
    {
     "data": {
      "text/plain": [
       "array([ 0,  0,  0, ..., 18,  0,  0], dtype=int64)"
      ]
     },
     "execution_count": 11,
     "metadata": {},
     "output_type": "execute_result"
    }
   ],
   "source": [
    "train_GHI"
   ]
  },
  {
   "cell_type": "code",
   "execution_count": 12,
   "metadata": {},
   "outputs": [],
   "source": [
    "def createSequence(data,window_size):\n",
    "    sequences = []\n",
    "    for i in range(0,len(data) - window_size +1):\n",
    "        sequence = data[i:i+window_size]\n",
    "        sequences.append(sequence)\n",
    "    return np.array(sequences)\n",
    "\n",
    "    \n",
    "\n",
    "        \n",
    "\n",
    "sequences_48 = createSequence(train,window_size=48) # 1 day\n",
    "sequences_96 = createSequence(train,window_size=96) # 2 day\n",
    "sequences_144 = createSequence(train,window_size=144) # 3 day\n",
    "\n"
   ]
  },
  {
   "cell_type": "code",
   "execution_count": 13,
   "metadata": {},
   "outputs": [],
   "source": [
    "train_GHI_48  = createSequence(train_GHI,window_size=48)\n",
    "train_GHI_96  = createSequence(train_GHI,window_size=96)\n",
    "train_GHI_144  = createSequence(train_GHI,window_size=144)\n"
   ]
  },
  {
   "cell_type": "code",
   "execution_count": 36,
   "metadata": {},
   "outputs": [],
   "source": [
    "def createModel(input_size):\n",
    "    model = Sequential()\n",
    "    model.add(LSTM(32,input_shape=(input_size,8),return_sequences=True))\n",
    "    model.add(LSTM(32))\n",
    "    #model.add(Dense(64,activation=\"relu\"))\n",
    "    model.add(Dense(1,activation=\"relu\"))\n",
    "    model.compile(loss=\"mse\",optimizer=Adam(learning_rate=0.001))\n",
    "    return model\n"
   ]
  },
  {
   "cell_type": "code",
   "execution_count": 37,
   "metadata": {},
   "outputs": [],
   "source": [
    "model_48 = createModel(48)\n",
    "model_96 = createModel(96)\n",
    "model_144 = createModel(144)"
   ]
  },
  {
   "cell_type": "code",
   "execution_count": 38,
   "metadata": {},
   "outputs": [
    {
     "name": "stdout",
     "output_type": "stream",
     "text": [
      "Epoch 1/10\n",
      "2191/2191 [==============================] - 43s 18ms/step - loss: 153109.6875 - val_loss: 140170.7969\n",
      "Epoch 2/10\n",
      "2191/2191 [==============================] - 37s 17ms/step - loss: 130103.4609 - val_loss: 122126.9141\n",
      "Epoch 3/10\n",
      "2191/2191 [==============================] - 38s 17ms/step - loss: 116229.9844 - val_loss: 112022.2656\n",
      "Epoch 4/10\n",
      "2191/2191 [==============================] - 37s 17ms/step - loss: 109450.5859 - val_loss: 108098.0312\n",
      "Epoch 5/10\n",
      "2191/2191 [==============================] - 38s 17ms/step - loss: 107523.9844 - val_loss: 107522.5859\n",
      "Epoch 6/10\n",
      "2191/2191 [==============================] - 36s 16ms/step - loss: 107375.0391 - val_loss: 107517.4219\n",
      "Epoch 7/10\n",
      "2191/2191 [==============================] - 37s 17ms/step - loss: 107371.8672 - val_loss: 107517.0547\n",
      "Epoch 8/10\n",
      "2191/2191 [==============================] - 37s 17ms/step - loss: 107362.4219 - val_loss: 107623.7344\n",
      "Epoch 9/10\n",
      "2191/2191 [==============================] - 38s 17ms/step - loss: 106769.5234 - val_loss: 105593.4141\n",
      "Epoch 10/10\n",
      "2191/2191 [==============================] - 37s 17ms/step - loss: 104796.9062 - val_loss: 105908.9609\n"
     ]
    }
   ],
   "source": [
    "hist_48 = model_48.fit(sequences_48,train_GHI_48,epochs=10,batch_size=64,validation_split=0.2)"
   ]
  },
  {
   "cell_type": "code",
   "execution_count": 39,
   "metadata": {},
   "outputs": [
    {
     "name": "stdout",
     "output_type": "stream",
     "text": [
      "Epoch 1/10\n",
      "8760/8760 [==============================] - 235s 27ms/step - loss: 126789.6094 - val_loss: 108008.8672\n",
      "Epoch 2/10\n",
      "8760/8760 [==============================] - 219s 25ms/step - loss: 107454.1484 - val_loss: 107662.4688\n",
      "Epoch 3/10\n",
      "8760/8760 [==============================] - 194s 22ms/step - loss: 106180.8672 - val_loss: 105164.1719\n",
      "Epoch 4/10\n",
      "8760/8760 [==============================] - 201s 23ms/step - loss: 104602.2969 - val_loss: 104709.1562\n",
      "Epoch 5/10\n",
      "8760/8760 [==============================] - 209s 24ms/step - loss: 104008.8438 - val_loss: 104368.4922\n",
      "Epoch 6/10\n",
      "8760/8760 [==============================] - 201s 23ms/step - loss: 103416.1875 - val_loss: 104221.0312\n",
      "Epoch 7/10\n",
      "8760/8760 [==============================] - 222s 25ms/step - loss: 103240.2969 - val_loss: 104725.4453\n",
      "Epoch 8/10\n",
      "8760/8760 [==============================] - 197s 22ms/step - loss: 103170.6016 - val_loss: 105211.3125\n",
      "Epoch 9/10\n",
      "8760/8760 [==============================] - 220s 25ms/step - loss: 103134.1719 - val_loss: 104966.9766\n",
      "Epoch 10/10\n",
      "8760/8760 [==============================] - 219s 25ms/step - loss: 103105.9922 - val_loss: 104756.1406\n"
     ]
    }
   ],
   "source": [
    "hist_96 = model_96.fit(sequences_96,train_GHI_96,epochs=10,batch_size=16,validation_split=0.2)\n"
   ]
  },
  {
   "cell_type": "code",
   "execution_count": 41,
   "metadata": {},
   "outputs": [
    {
     "name": "stdout",
     "output_type": "stream",
     "text": [
      "Epoch 1/10\n",
      "2190/2190 [==============================] - 72s 33ms/step - loss: 136364.2188 - val_loss: 126745.7891\n",
      "Epoch 2/10\n",
      "2190/2190 [==============================] - 69s 31ms/step - loss: 119515.1172 - val_loss: 114168.1250\n",
      "Epoch 3/10\n",
      "2190/2190 [==============================] - 65s 30ms/step - loss: 110707.8047 - val_loss: 108676.9219\n",
      "Epoch 4/10\n",
      "2190/2190 [==============================] - 73s 34ms/step - loss: 107747.6250 - val_loss: 107577.3984\n",
      "Epoch 5/10\n",
      "2190/2190 [==============================] - 71s 32ms/step - loss: 107404.0625 - val_loss: 107549.7109\n",
      "Epoch 6/10\n",
      "2190/2190 [==============================] - 68s 31ms/step - loss: 107387.7656 - val_loss: 106773.9062\n",
      "Epoch 7/10\n",
      "2190/2190 [==============================] - 71s 33ms/step - loss: 106631.1562 - val_loss: 106102.6875\n",
      "Epoch 8/10\n",
      "2190/2190 [==============================] - 70s 32ms/step - loss: 105507.2109 - val_loss: 105237.2109\n",
      "Epoch 9/10\n",
      "2190/2190 [==============================] - 68s 31ms/step - loss: 104612.5000 - val_loss: 104465.6406\n",
      "Epoch 10/10\n",
      "2190/2190 [==============================] - 72s 33ms/step - loss: 104280.9141 - val_loss: 104582.6484\n"
     ]
    }
   ],
   "source": [
    "hist_144 = model_144.fit(sequences_144,train_GHI_144,epochs=10,batch_size=64,validation_split=0.2)"
   ]
  },
  {
   "cell_type": "code",
   "execution_count": 47,
   "metadata": {},
   "outputs": [
    {
     "data": {
      "text/plain": [
       "<matplotlib.legend.Legend at 0x28c3213b3a0>"
      ]
     },
     "execution_count": 47,
     "metadata": {},
     "output_type": "execute_result"
    },
    {
     "data": {
      "image/png": "[encoded data removed]",
      "text/plain": [
       "<Figure size 432x288 with 1 Axes>"
      ]
     },
     "metadata": {
      "needs_background": "light"
     },
     "output_type": "display_data"
    }
   ],
   "source": [
    "plt.plot(hist_48.history[\"loss\"],label=\"loss_48\")\n",
    "plt.plot(hist_48.history[\"val_loss\"],label=\"val_loss_48\")\n",
    "plt.title(\"loss_48\")\n",
    "plt.legend()"
   ]
  },
  {
   "cell_type": "code",
   "execution_count": 48,
   "metadata": {},
   "outputs": [
    {
     "data": {
      "text/plain": [
       "<matplotlib.legend.Legend at 0x28d5736faf0>"
      ]
     },
     "execution_count": 48,
     "metadata": {},
     "output_type": "execute_result"
    },
    {
     "data": {
      "image/png": "[encoded data removed]",
      "text/plain": [
       "<Figure size 432x288 with 1 Axes>"
      ]
     },
     "metadata": {
      "needs_background": "light"
     },
     "output_type": "display_data"
    }
   ],
   "source": [
    "plt.plot(hist_96.history[\"loss\"],label=\"loss_96\")\n",
    "plt.plot(hist_96.history[\"val_loss\"],label=\"val_loss_96\")\n",
    "plt.title(\"loss_96\")\n",
    "plt.legend()"
   ]
  },
  {
   "cell_type": "code",
   "execution_count": 49,
   "metadata": {},
   "outputs": [
    {
     "data": {
      "text/plain": [
       "<matplotlib.legend.Legend at 0x28d573d4be0>"
      ]
     },
     "execution_count": 49,
     "metadata": {},
     "output_type": "execute_result"
    },
    {
     "data": {
      "image/png": "[encoded data removed]",
      "text/plain": [
       "<Figure size 432x288 with 1 Axes>"
      ]
     },
     "metadata": {
      "needs_background": "light"
     },
     "output_type": "display_data"
    }
   ],
   "source": [
    "plt.plot(hist_144.history[\"loss\"],label=\"loss_144\")\n",
    "plt.plot(hist_144.history[\"val_loss\"],label=\"val_loss_144\")\n",
    "plt.title(\"loss_144\")\n",
    "\n",
    "plt.legend()"
   ]
  },
  {
   "cell_type": "code",
   "execution_count": 50,
   "metadata": {},
   "outputs": [
    {
     "data": {
      "text/plain": [
       "<matplotlib.legend.Legend at 0x28d574890a0>"
      ]
     },
     "execution_count": 50,
     "metadata": {},
     "output_type": "execute_result"
    },
    {
     "data": {
      "image/png": "[encoded data removed]",
      "text/plain": [
       "<Figure size 432x288 with 1 Axes>"
      ]
     },
     "metadata": {
      "needs_background": "light"
     },
     "output_type": "display_data"
    }
   ],
   "source": [
    "plt.plot(hist_48.history[\"loss\"],label=\"loss_48\")\n",
    "plt.plot(hist_96.history[\"loss\"],label=\"loss_96\")\n",
    "plt.plot(hist_144.history[\"loss\"],label=\"loss_144\")\n",
    "plt.title(\"loss\")\n",
    "plt.legend()"
   ]
  },
  {
   "cell_type": "code",
   "execution_count": 51,
   "metadata": {},
   "outputs": [
    {
     "data": {
      "text/plain": [
       "<matplotlib.legend.Legend at 0x28d5b44a7c0>"
      ]
     },
     "execution_count": 51,
     "metadata": {},
     "output_type": "execute_result"
    },
    {
     "data": {
      "image/png": "[encoded data removed]",
      "text/plain": [
       "<Figure size 432x288 with 1 Axes>"
      ]
     },
     "metadata": {
      "needs_background": "light"
     },
     "output_type": "display_data"
    }
   ],
   "source": [
    "plt.plot(hist_48.history[\"val_loss\"],label=\"val_loss_48\")\n",
    "plt.plot(hist_96.history[\"val_loss\"],label=\"val_loss_96\")\n",
    "plt.plot(hist_144.history[\"val_loss\"],label=\"val_loss_144\")\n",
    "plt.title(\"val_loss\")\n",
    "plt.legend()"
   ]
  },
  {
   "cell_type": "code",
   "execution_count": 58,
   "metadata": {},
   "outputs": [
    {
     "name": "stdout",
     "output_type": "stream",
     "text": [
      "(17425, 96, 8)\n"
     ]
    },
    {
     "data": {
      "text/plain": [
       "(17425, 1)"
      ]
     },
     "execution_count": 58,
     "metadata": {},
     "output_type": "execute_result"
    }
   ],
   "source": [
    "test_sequences = createSequence(test,window_size=96)\n",
    "\n",
    "test_GHI = test_GHI[:len(test_sequences)].reshape(-1,1)\n",
    "print(test_sequences.shape)\n",
    "test_GHI.shape"
   ]
  },
  {
   "cell_type": "code",
   "execution_count": 59,
   "metadata": {},
   "outputs": [
    {
     "name": "stdout",
     "output_type": "stream",
     "text": [
      "545/545 [==============================] - 6s 10ms/step - loss: 84666.3047\n"
     ]
    }
   ],
   "source": [
    "evaluation = model_96.evaluate(test_sequences,test_GHI)"
   ]
  }
 ],
 "metadata": {
  "kernelspec": {
   "display_name": "tf",
   "language": "python",
   "name": "python3"
  },
  "language_info": {
   "codemirror_mode": {
    "name": "ipython",
    "version": 3
   },
   "file_extension": ".py",
   "mimetype": "text/x-python",
   "name": "python",
   "nbconvert_exporter": "python",
   "pygments_lexer": "ipython3",
   "version": "3.9.17"
  }
 },
 "nbformat": 4,
 "nbformat_minor": 2
}
