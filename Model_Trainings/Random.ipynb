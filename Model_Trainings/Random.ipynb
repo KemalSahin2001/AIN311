{
 "cells": [
  {
   "cell_type": "code",
   "execution_count": 46,
   "metadata": {},
   "outputs": [],
   "source": [
    "import numpy as np\n",
    "import pandas as pd\n",
    "import matplotlib.pyplot as plt\n",
    "from sklearn.ensemble import RandomForestRegressor\n",
    "from sklearn.model_selection import train_test_split\n",
    "from sklearn.metrics import mean_squared_error\n",
    "from sklearn.preprocessing import MinMaxScaler\n",
    "from sklearn.model_selection import GridSearchCV\n",
    "from sklearn.model_selection import learning_curve\n"
   ]
  },
  {
   "cell_type": "code",
   "execution_count": 47,
   "metadata": {},
   "outputs": [],
   "source": [
    "train = pd.read_csv(\"train.csv\")\n",
    "test = pd.read_csv(\"test.csv\")\n",
    "test.drop([\"Clearsky DHI\",\"Clearsky DNI\",\"Clearsky GHI\"],axis=1,inplace=True)\n",
    "test_y = pd.read_csv(\"sample_submission.csv\")\n",
    "\n",
    "test = pd.concat([test,test_y],axis=1)"
   ]
  },
  {
   "cell_type": "code",
   "execution_count": 48,
   "metadata": {},
   "outputs": [],
   "source": [
    "# Since time information is not important, we can drop it.\n",
    "Time_columns = [\"Year\",\"Month\",\"Hour\",\"Minute\"]\n",
    "\n",
    "train.drop(Time_columns,axis=1,inplace=True)\n",
    "test.drop(Time_columns,axis=1,inplace=True)"
   ]
  },
  {
   "cell_type": "code",
   "execution_count": 49,
   "metadata": {},
   "outputs": [],
   "source": [
    "train_GHI = train[\"Clearsky GHI\"].values\n",
    "train.drop([\"Clearsky GHI\"],axis=1,inplace=True)\n",
    "\n",
    "test_GHI = test[\"Clearsky GHI\"].values\n",
    "\n",
    "test.drop([\"Clearsky GHI\"],axis=1,inplace=True)\n",
    "\n",
    "Scaler = MinMaxScaler()\n",
    "\n",
    "train_GHI = Scaler.fit_transform(train_GHI.reshape(-1,1))\n",
    "test_GHI = Scaler.fit_transform(test_GHI.reshape(-1,1))\n",
    "\n",
    "train_GHI = train_GHI.ravel()\n",
    "test_GHI = test_GHI.ravel()\n"
   ]
  },
  {
   "cell_type": "code",
   "execution_count": 50,
   "metadata": {},
   "outputs": [],
   "source": [
    "Errors_rmse_GHI = []\n",
    "all_columns = train.columns\n",
    "Solar_zenith = [\"Solar Zenith Angle\"]\n",
    "solar_temp = [\"Solar Zenith Angle\",\"Temperature\"]"
   ]
  },
  {
   "cell_type": "code",
   "execution_count": 51,
   "metadata": {},
   "outputs": [],
   "source": [
    "def Prepare_Train_Test(train,test,columns,Scaler):\n",
    "    train_x = Scaler.fit_transform(train[columns].values)\n",
    "    test_x = Scaler.fit_transform(test[columns].values)\n",
    "\n",
    "    return train_x,test_x"
   ]
  },
  {
   "cell_type": "markdown",
   "metadata": {},
   "source": [
    "# Setting 1: All columns"
   ]
  },
  {
   "cell_type": "code",
   "execution_count": 52,
   "metadata": {},
   "outputs": [
    {
     "name": "stdout",
     "output_type": "stream",
     "text": [
      "0.12718033216128236\n"
     ]
    }
   ],
   "source": [
    "train_x,test_x = Prepare_Train_Test(train,test,all_columns,Scaler=MinMaxScaler())\n",
    "RFR_GHI = RandomForestRegressor()\n",
    "RFR_GHI.fit(train_x,train_GHI)\n",
    "preds_GHI = RFR_GHI.predict(test_x)\n",
    "rmse = mean_squared_error(preds_GHI,test_GHI) \n",
    "print(rmse)\n",
    "\n",
    "Errors_rmse_GHI.append(rmse)"
   ]
  },
  {
   "cell_type": "markdown",
   "metadata": {},
   "source": [
    "# Setting 2 : Most Correlated Column"
   ]
  },
  {
   "cell_type": "code",
   "execution_count": 61,
   "metadata": {},
   "outputs": [
    {
     "name": "stdout",
     "output_type": "stream",
     "text": [
      "0.1520200885169058\n"
     ]
    }
   ],
   "source": [
    "train_x,test_x = Prepare_Train_Test(train,test,Solar_zenith,Scaler=MinMaxScaler())\n",
    "\n",
    "train_x = train_x.reshape(-1,1)\n",
    "test_x = test_x.reshape(-1,1)\n",
    "RFR_GHI = RandomForestRegressor()\n",
    "RFR_GHI.fit(train_x,train_GHI)\n",
    "preds_GHI = RFR_GHI.predict(test_x)\n",
    "\n",
    "rmse = mean_squared_error(preds_GHI,test_GHI) \n",
    "print(rmse)\n",
    "\n",
    "Errors_rmse_GHI.append(rmse)"
   ]
  },
  {
   "cell_type": "markdown",
   "metadata": {},
   "source": [
    "# Setting 3 : Most Correlated 2 Columns"
   ]
  },
  {
   "cell_type": "code",
   "execution_count": 62,
   "metadata": {},
   "outputs": [
    {
     "name": "stdout",
     "output_type": "stream",
     "text": [
      "0.15150754309748599\n"
     ]
    }
   ],
   "source": [
    "train_x,test_x = Prepare_Train_Test(train,test,solar_temp,Scaler=MinMaxScaler())\n",
    "RFR_GHI = RandomForestRegressor()\n",
    "RFR_GHI.fit(train_x,train_GHI)\n",
    "preds_GHI = RFR_GHI.predict(test_x)\n",
    "rmse = mean_squared_error(preds_GHI,test_GHI) \n",
    "print(rmse)\n",
    "\n",
    "Errors_rmse_GHI.append(rmse)"
   ]
  },
  {
   "cell_type": "markdown",
   "metadata": {},
   "source": [
    "# Setting 4 : Hyperparameter Tuned All Columns"
   ]
  },
  {
   "cell_type": "code",
   "execution_count": 56,
   "metadata": {},
   "outputs": [],
   "source": [
    "param_grid = {\n",
    "    'n_estimators': [50, 100],\n",
    "    'max_depth': [10, 20],\n",
    "    'min_samples_split': [2, 5],\n",
    "    'min_samples_leaf': [1, 2]\n",
    "}\n",
    "\n",
    "grid_search = GridSearchCV(RandomForestRegressor(), param_grid, cv=2)\n",
    "grid_search.fit(train_x, train_GHI)\n",
    "\n",
    "best_params = grid_search.best_params_\n",
    "best_model = grid_search.best_estimator_"
   ]
  },
  {
   "cell_type": "code",
   "execution_count": 58,
   "metadata": {},
   "outputs": [
    {
     "name": "stdout",
     "output_type": "stream",
     "text": [
      "Best Parameters: {'max_depth': 20, 'min_samples_leaf': 1, 'min_samples_split': 2, 'n_estimators': 100}\n",
      "RMSE: 0.12699283778623002\n"
     ]
    }
   ],
   "source": [
    "print(\"Best Parameters:\", best_params)\n",
    "\n",
    "# Make predictions using the best model\n",
    "preds_GHI = best_model.predict(Prepare_Train_Test(train, test, all_columns, Scaler=MinMaxScaler())[1])\n",
    "\n",
    "# Calculate and print RMSE\n",
    "rmse = mean_squared_error(preds_GHI, test_GHI)\n",
    "Errors_rmse_GHI.append(rmse)\n",
    "print(\"RMSE:\", rmse)"
   ]
  },
  {
   "cell_type": "code",
   "execution_count": 64,
   "metadata": {},
   "outputs": [
    {
     "data": {
      "image/png": "[encoded data removed]",
      "text/plain": [
       "<Figure size 1000x1000 with 1 Axes>"
      ]
     },
     "metadata": {},
     "output_type": "display_data"
    }
   ],
   "source": [
    "Settings = [\"All column\",\"Hyperparameter Tuned All column\",\"Most correlated\",\"Most correlated 2\"]\n",
    "fig = plt.figure(figsize=(10,10))\n",
    "plt.bar(Settings,Errors_rmse_GHI)\n",
    "plt.show()"
   ]
  },
  {
   "cell_type": "markdown",
   "metadata": {},
   "source": [
    "Lowest RMSE score is obtained when all the columns had been used and hyperparameter tuning made so little difference(Computational time is an issue that's why no further experiments with parameter grid hadn't been done. More experiments may be done in the future)"
   ]
  }
 ],
 "metadata": {
  "kernelspec": {
   "display_name": "Python 3",
   "language": "python",
   "name": "python3"
  },
  "language_info": {
   "codemirror_mode": {
    "name": "ipython",
    "version": 3
   },
   "file_extension": ".py",
   "mimetype": "text/x-python",
   "name": "python",
   "nbconvert_exporter": "python",
   "pygments_lexer": "ipython3",
   "version": "3.9.5"
  }
 },
 "nbformat": 4,
 "nbformat_minor": 2
}
