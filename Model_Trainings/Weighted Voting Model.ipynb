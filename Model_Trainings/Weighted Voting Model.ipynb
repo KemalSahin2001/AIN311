{
 "cells": [
  {
   "cell_type": "code",
   "execution_count": 5,
   "metadata": {},
   "outputs": [],
   "source": [
    "import pandas as pd\n",
    "import numpy as np\n",
    "import torch\n",
    "from sklearn.preprocessing import MinMaxScaler\n",
    "import joblib"
   ]
  },
  {
   "cell_type": "code",
   "execution_count": 6,
   "metadata": {},
   "outputs": [],
   "source": [
    "data = pd.read_csv('train.csv')\n",
    "# Selecting the columns to be scaled (all except date and time columns)\n",
    "columns_to_scale = data.columns.difference(['Year', 'Month', 'Day', 'Hour', 'Minute'])\n",
    "\n",
    "# Applying Min-Max Scaling\n",
    "scaler = MinMaxScaler()\n",
    "data[columns_to_scale] = scaler.fit_transform(data[columns_to_scale])\n",
    "\n",
    "data['DateTime'] = pd.to_datetime(data[['Year', 'Month', 'Day', 'Hour', 'Minute']])\n",
    "data = data.set_index('DateTime')\n",
    "\n",
    "# Drop the original columns if they are no longer needed\n",
    "data.drop(['Year', 'Month', 'Day', 'Hour', 'Minute'], axis=1, inplace=True)"
   ]
  },
  {
   "cell_type": "code",
   "execution_count": 7,
   "metadata": {},
   "outputs": [],
   "source": [
    "# Define a function to create sequences from the dataset\n",
    "def create_sequences(data, window_size, target_column):\n",
    "    sequences = []\n",
    "    targets = []\n",
    "\n",
    "    data_X = data.drop(target_column, axis=1)\n",
    "\n",
    "    for i in range(len(data) - window_size):\n",
    "        sequence = data_X.iloc[i:i + window_size].to_numpy()\n",
    "        target = data.iloc[i + window_size][target_column].reshape(1,)\n",
    "        \n",
    "        sequences.append(sequence)\n",
    "        targets.append(target)\n",
    "\n",
    "    return np.array(sequences), np.array(targets)\n",
    "\n",
    "# Target column for prediction\n",
    "target_column = 'Clearsky GHI'"
   ]
  },
  {
   "cell_type": "code",
   "execution_count": 8,
   "metadata": {},
   "outputs": [
    {
     "data": {
      "text/plain": [
       "((175272, 24, 12), (175272, 1))"
      ]
     },
     "execution_count": 8,
     "metadata": {},
     "output_type": "execute_result"
    }
   ],
   "source": [
    "# 1D CNN DATA\n",
    "\n",
    "# Choosing a window size\n",
    "window_size = 24\n",
    "\n",
    "# Creating sequences\n",
    "X_cnn, y_cnn = create_sequences(data, window_size, target_column)\n",
    "\n",
    "# Displaying the shape of the created sequences and targets\n",
    "X_cnn.shape, y_cnn.shape"
   ]
  },
  {
   "cell_type": "code",
   "execution_count": 9,
   "metadata": {},
   "outputs": [
    {
     "data": {
      "text/plain": [
       "((175200, 96, 12), (175200, 1))"
      ]
     },
     "execution_count": 9,
     "metadata": {},
     "output_type": "execute_result"
    }
   ],
   "source": [
    "# LSTM DATA\n",
    "\n",
    "# Choosing a window size\n",
    "window_size = 96\n",
    "\n",
    "# Creating sequences\n",
    "X_lstm, y_lstm = create_sequences(data, window_size, target_column)\n",
    "\n",
    "# Displaying the shape of the created sequences and targets\n",
    "X_lstm.shape, y_lstm.shape"
   ]
  },
  {
   "cell_type": "code",
   "execution_count": 10,
   "metadata": {},
   "outputs": [
    {
     "data": {
      "text/plain": [
       "((175296, 10), (175296, 1))"
      ]
     },
     "execution_count": 10,
     "metadata": {},
     "output_type": "execute_result"
    }
   ],
   "source": [
    "# Random Forest DATA\n",
    "\n",
    "# Random Forest does not require sequences to be created so we can directly use the data\n",
    "X_rf = data.drop(['Clearsky GHI','Clearsky DHI','Clearsky DNI'], axis=1)\n",
    "y_rf = data[target_column].to_numpy().reshape(-1, 1)\n",
    "\n",
    "# Displaying the shape of the created sequences and targets\n",
    "X_rf.shape, y_rf.shape"
   ]
  },
  {
   "cell_type": "code",
   "execution_count": 11,
   "metadata": {},
   "outputs": [],
   "source": [
    "# CNN data is longer that the LSTM data because of the window size chosen. let's trim the CNN data to match the length of the LSTM data\n",
    "X_cnn = X_cnn[:len(X_lstm)]\n",
    "y_cnn = y_cnn[:len(y_lstm)]\n",
    "\n",
    "X_rf = X_rf[:len(X_lstm)]\n",
    "y_rf = y_rf[:len(y_lstm)]"
   ]
  },
  {
   "cell_type": "code",
   "execution_count": 12,
   "metadata": {},
   "outputs": [],
   "source": [
    "# Check if GPU is available and move the model to GPU if available\n",
    "device = torch.device(\"cuda\" if torch.cuda.is_available() else \"cpu\")"
   ]
  },
  {
   "cell_type": "code",
   "execution_count": 13,
   "metadata": {},
   "outputs": [],
   "source": [
    "from torch.utils.data import TensorDataset, DataLoader\n",
    "\n",
    "# Create a TensorDataset for CNN\n",
    "X_test_tensor_cnn = torch.tensor(X_cnn).float().to(device)\n",
    "y_test_tensor_cnn = torch.tensor(y_cnn).float().to(device)\n",
    "\n",
    "test_dataset_cnn = TensorDataset(X_test_tensor_cnn, y_test_tensor_cnn)\n",
    "\n",
    "test_loader_cnn = DataLoader(dataset=test_dataset_cnn, batch_size=32, shuffle=False)\n",
    "\n",
    "# Create a TensorDataset for LSTM\n",
    "X_test_tensor_lstm = torch.tensor(X_lstm).float().to(device)\n",
    "y_test_tensor_lstm = torch.tensor(y_lstm).float().to(device)\n",
    "\n",
    "test_dataset_lstm = TensorDataset(X_test_tensor_lstm, y_test_tensor_lstm)\n",
    "\n",
    "test_loader_lstm = DataLoader(dataset=test_dataset_lstm, batch_size=32, shuffle=False)"
   ]
  },
  {
   "cell_type": "code",
   "execution_count": 14,
   "metadata": {},
   "outputs": [
    {
     "data": {
      "text/plain": [
       "<All keys matched successfully>"
      ]
     },
     "execution_count": 14,
     "metadata": {},
     "output_type": "execute_result"
    }
   ],
   "source": [
    "import torch.nn.functional as F\n",
    "from torch import nn\n",
    "\n",
    "# Define the CNN model\n",
    "class CNN1D(nn.Module):\n",
    "    def __init__(self):\n",
    "        super(CNN1D, self).__init__()\n",
    "        self.conv1 = nn.Conv1d(in_channels=24, out_channels=64, kernel_size=3)\n",
    "        self.conv2 = nn.Conv1d(in_channels=64, out_channels=128, kernel_size=3)\n",
    "        self.pool = nn.MaxPool1d(kernel_size=2)\n",
    "        self.flatten = nn.Flatten()\n",
    "        self.fc1 = nn.Linear(128, 100)  # Adjusted input size\n",
    "        self.fc2 = nn.Linear(100, 1)\n",
    "\n",
    "    def forward(self, x):\n",
    "        x = self.pool(F.relu(self.conv1(x)))\n",
    "        x = self.pool(F.relu(self.conv2(x)))\n",
    "        x = self.flatten(x)\n",
    "        x = F.relu(self.fc1(x))\n",
    "        x = self.fc2(x)\n",
    "        return x\n",
    "    \n",
    "# Load the model\n",
    "weights_1DCNN = torch.load('best_model.pth')\n",
    "\n",
    "# Create an instance of the model with the same parameters as the original model\n",
    "model_cnn = CNN1D()\n",
    "\n",
    "# Load the weights\n",
    "model_cnn.load_state_dict(weights_1DCNN)"
   ]
  },
  {
   "cell_type": "code",
   "execution_count": 15,
   "metadata": {},
   "outputs": [
    {
     "data": {
      "text/plain": [
       "<All keys matched successfully>"
      ]
     },
     "execution_count": 15,
     "metadata": {},
     "output_type": "execute_result"
    }
   ],
   "source": [
    "from torch.optim import Adam\n",
    "\n",
    "# Define the LSTM model\n",
    "class Model(nn.Module):\n",
    "    def __init__(self, lr):\n",
    "        super(Model, self).__init__()\n",
    "        self.lstm = nn.LSTM(input_size=12, hidden_size=32, batch_first=True)\n",
    "        self.fc1 = nn.Linear(32, 16)\n",
    "        self.fc2 = nn.Linear(16, 1)\n",
    "        self.relu = nn.ReLU()\n",
    "        self.loss_function = nn.MSELoss()\n",
    "        self.optimizer = Adam(self.parameters(), lr=lr)\n",
    "\n",
    "    def forward(self, x):\n",
    "        x, _ = self.lstm(x)\n",
    "        x = self.relu(self.fc1(x))\n",
    "        x = self.relu(self.fc2(x))\n",
    "        return x\n",
    "\n",
    "    def compile(self, x, y):\n",
    "        self.optimizer.zero_grad()\n",
    "        output = self.forward(x)\n",
    "        loss = self.loss_function(output, y)\n",
    "        loss.backward()\n",
    "        self.optimizer.step()\n",
    "        return loss.item()\n",
    "    \n",
    "# Load the model\n",
    "weights_LSTM = torch.load('0.0002LSTM.pth')\n",
    "\n",
    "# Create an instance of the model with the same parameters as the original model\n",
    "model_lstm = Model(lr=0.001)\n",
    "\n",
    "# Load the weights\n",
    "model_lstm.load_state_dict(weights_LSTM)"
   ]
  },
  {
   "cell_type": "code",
   "execution_count": 16,
   "metadata": {},
   "outputs": [],
   "source": [
    "rf_model = joblib.load('6-39e-05.joblib')"
   ]
  },
  {
   "cell_type": "code",
   "execution_count": 17,
   "metadata": {},
   "outputs": [
    {
     "data": {
      "text/plain": [
       "Model(\n",
       "  (lstm): LSTM(12, 32, batch_first=True)\n",
       "  (fc1): Linear(in_features=32, out_features=16, bias=True)\n",
       "  (fc2): Linear(in_features=16, out_features=1, bias=True)\n",
       "  (relu): ReLU()\n",
       "  (loss_function): MSELoss()\n",
       ")"
      ]
     },
     "execution_count": 17,
     "metadata": {},
     "output_type": "execute_result"
    }
   ],
   "source": [
    "model_cnn.to(device)\n",
    "model_lstm.to(device)"
   ]
  },
  {
   "cell_type": "code",
   "execution_count": 32,
   "metadata": {},
   "outputs": [
    {
     "data": {
      "text/plain": [
       "[0.9994320818983187, 0.0004367124144185068, 0.00013120568726284135]"
      ]
     },
     "execution_count": 32,
     "metadata": {},
     "output_type": "execute_result"
    }
   ],
   "source": [
    "#mse_values = [0.000008, 0.00002, 0.00006]\n",
    "mse_values = [3.9898704676470736e-05, 0.09130962199219195, 0.30392009913387796]\n",
    "\n",
    "# Calculate weights as the inverse of MSE, then normalize\n",
    "inverse_mse = [1/mse for mse in mse_values]\n",
    "sum_inverse_mse = sum(inverse_mse)\n",
    "weights = [inv_mse/sum_inverse_mse for inv_mse in inverse_mse]\n",
    "weights"
   ]
  },
  {
   "cell_type": "code",
   "execution_count": 33,
   "metadata": {},
   "outputs": [],
   "source": [
    "# Function to make predictions with a model\n",
    "def predict_with_model(model, test_loader):\n",
    "    model.eval()\n",
    "    predictions = []\n",
    "    with torch.no_grad():\n",
    "        for data, _ in test_loader:\n",
    "            data = data.to(device)\n",
    "            outputs = model(data)\n",
    "            predictions.extend(outputs.cpu().numpy())\n",
    "    return np.array(predictions)\n",
    "\n",
    "# Predict using CNN and LSTM models\n",
    "cnn_predictions = predict_with_model(model_cnn, test_loader_cnn)\n",
    "lstm_predictions = predict_with_model(model_lstm, test_loader_lstm)\n",
    "rf_predictions = rf_model.predict(X_rf)\n",
    "\n",
    "# Average LSTM predictions across each window\n",
    "avg_lstm_predictions = lstm_predictions.mean(axis=1)\n",
    "\n",
    "# Now, reshape to match the CNN predictions\n",
    "avg_lstm_predictions = avg_lstm_predictions.reshape(-1, 1)\n",
    "\n",
    "# Apply weights to the predictions\n",
    "weighted_cnn_predictions = cnn_predictions * weights[0]\n",
    "weighted_lstm_predictions = avg_lstm_predictions * weights[1]\n",
    "weighted_rf_predictions = rf_predictions * weights[2] \n",
    "weighted_rf_predictions = weighted_rf_predictions.reshape(-1,1)\n"
   ]
  },
  {
   "cell_type": "code",
   "execution_count": 20,
   "metadata": {},
   "outputs": [],
   "source": [
    "# Combine the predictions\n",
    "final_predictions = weighted_cnn_predictions + weighted_lstm_predictions + weighted_rf_predictions"
   ]
  },
  {
   "cell_type": "code",
   "execution_count": 21,
   "metadata": {},
   "outputs": [
    {
     "data": {
      "text/plain": [
       "0.015433386269217446"
      ]
     },
     "execution_count": 21,
     "metadata": {},
     "output_type": "execute_result"
    }
   ],
   "source": [
    "from sklearn.metrics import mean_squared_error\n",
    "\n",
    "# Assuming y_test contains the true values (you'll need to concatenate y_cnn and y_lstm appropriately)\n",
    "mean_squared_error(y_cnn, final_predictions)"
   ]
  },
  {
   "cell_type": "code",
   "execution_count": 22,
   "metadata": {},
   "outputs": [
    {
     "data": {
      "text/plain": [
       "3.9898704676470736e-05"
      ]
     },
     "execution_count": 22,
     "metadata": {},
     "output_type": "execute_result"
    }
   ],
   "source": [
    "mean_squared_error(y_cnn, cnn_predictions)"
   ]
  },
  {
   "cell_type": "code",
   "execution_count": 23,
   "metadata": {},
   "outputs": [
    {
     "data": {
      "image/png": "[encoded data removed]",
      "text/plain": [
       "<Figure size 720x432 with 1 Axes>"
      ]
     },
     "metadata": {
      "needs_background": "light"
     },
     "output_type": "display_data"
    }
   ],
   "source": [
    "import matplotlib.pyplot as plt\n",
    "\n",
    "plt.figure(figsize=(10, 6))\n",
    "plt.plot(y_lstm, label='Actual Values')\n",
    "plt.plot(final_predictions, label='Predicted Values', alpha=0.7)\n",
    "plt.title('Real vs Predicted Values For Weighted Voting')\n",
    "plt.xlabel('Samples')\n",
    "plt.ylabel('Values')\n",
    "plt.legend()\n",
    "plt.show()"
   ]
  },
  {
   "cell_type": "code",
   "execution_count": 25,
   "metadata": {},
   "outputs": [
    {
     "data": {
      "image/png": "[encoded data removed]",
      "text/plain": [
       "<Figure size 720x432 with 1 Axes>"
      ]
     },
     "metadata": {
      "needs_background": "light"
     },
     "output_type": "display_data"
    }
   ],
   "source": [
    "plt.figure(figsize=(10, 6))\n",
    "plt.plot(y_lstm, label='Actual Values')\n",
    "plt.plot(cnn_predictions, label='Predicted Values', alpha=0.7)\n",
    "plt.title('Real vs Predicted Values For 1D-CNN')\n",
    "plt.xlabel('Samples')\n",
    "plt.ylabel('Values')\n",
    "plt.legend()\n",
    "plt.show()"
   ]
  }
 ],
 "metadata": {
  "kernelspec": {
   "display_name": "Python 3",
   "language": "python",
   "name": "python3"
  },
  "language_info": {
   "codemirror_mode": {
    "name": "ipython",
    "version": 3
   },
   "file_extension": ".py",
   "mimetype": "text/x-python",
   "name": "python",
   "nbconvert_exporter": "python",
   "pygments_lexer": "ipython3",
   "version": "3.8.3"
  }
 },
 "nbformat": 4,
 "nbformat_minor": 2
}
