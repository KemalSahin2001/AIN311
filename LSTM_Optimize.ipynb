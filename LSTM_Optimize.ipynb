{
 "cells": [
  {
   "cell_type": "code",
   "execution_count": 34,
   "metadata": {},
   "outputs": [],
   "source": [
    "import pandas as pd \n",
    "import tensorflow as tf\n",
    "from sklearn.preprocessing import MinMaxScaler\n",
    "from tensorflow.keras.models import Sequential\n",
    "from tensorflow.keras.layers import Dense, Dropout, LSTM\n",
    "from tensorflow.keras.optimizers import Adam\n",
    "import matplotlib.pyplot as plt\n",
    "import numpy as np\n",
    "from sklearn.metrics import mean_squared_error"
   ]
  },
  {
   "cell_type": "code",
   "execution_count": 2,
   "metadata": {},
   "outputs": [
    {
     "data": {
      "text/plain": [
       "'train = pd.read_csv(\"train.csv\")\\ntest = pd.read_csv(\"test.csv\")\\ntest.drop([\"Clearsky DHI\",\"Clearsky DNI\",\"Clearsky GHI\"],axis=1,inplace=True)\\ntest_y = pd.read_csv(\"sample_submission.csv\")\\ncorrelated_Columns = [\"Clearsky DHI\",\"Clearsky DNI\",\"Solar Zenith Angle\",\"Temperature\"]\\ntest = pd.concat([test,test_y],axis=1)'"
      ]
     },
     "execution_count": 2,
     "metadata": {},
     "output_type": "execute_result"
    }
   ],
   "source": [
    "\"\"\"train = pd.read_csv(\"train.csv\")\n",
    "test = pd.read_csv(\"test.csv\")\n",
    "test.drop([\"Clearsky DHI\",\"Clearsky DNI\",\"Clearsky GHI\"],axis=1,inplace=True)\n",
    "test_y = pd.read_csv(\"sample_submission.csv\")\n",
    "correlated_Columns = [\"Clearsky DHI\",\"Clearsky DNI\",\"Solar Zenith Angle\",\"Temperature\"]\n",
    "test = pd.concat([test,test_y],axis=1)\"\"\""
   ]
  },
  {
   "cell_type": "code",
   "execution_count": 3,
   "metadata": {},
   "outputs": [],
   "source": [
    "data = pd.read_csv(\"train.csv\")\n",
    "train_size = int(len(data) * 0.8)\n",
    "test_size = len(data) - train_size\n",
    "train, test = data.iloc[0:train_size], data.iloc[train_size:len(data)]"
   ]
  },
  {
   "cell_type": "code",
   "execution_count": 4,
   "metadata": {},
   "outputs": [],
   "source": [
    "Scaler = MinMaxScaler()"
   ]
  },
  {
   "cell_type": "code",
   "execution_count": 5,
   "metadata": {},
   "outputs": [
    {
     "name": "stderr",
     "output_type": "stream",
     "text": [
      "C:\\Users\\burak\\AppData\\Local\\Temp/ipykernel_11332/986303468.py:2: SettingWithCopyWarning: \n",
      "A value is trying to be set on a copy of a slice from a DataFrame\n",
      "\n",
      "See the caveats in the documentation: https://pandas.pydata.org/pandas-docs/stable/user_guide/indexing.html#returning-a-view-versus-a-copy\n",
      "  train.drop([\"Clearsky GHI\"],axis=1,inplace=True)\n",
      "C:\\Users\\burak\\AppData\\Local\\Temp/ipykernel_11332/986303468.py:6: SettingWithCopyWarning: \n",
      "A value is trying to be set on a copy of a slice from a DataFrame\n",
      "\n",
      "See the caveats in the documentation: https://pandas.pydata.org/pandas-docs/stable/user_guide/indexing.html#returning-a-view-versus-a-copy\n",
      "  test.drop([\"Clearsky GHI\"],axis=1,inplace=True)\n"
     ]
    }
   ],
   "source": [
    "train_GHI = train[\"Clearsky GHI\"].values\n",
    "train.drop([\"Clearsky GHI\"],axis=1,inplace=True)\n",
    "#train.drop(correlated_Columns,axis=1,inplace=True)\n",
    "test_GHI = test[\"Clearsky GHI\"].values\n",
    "\n",
    "test.drop([\"Clearsky GHI\"],axis=1,inplace=True)\n",
    "#test.drop(correlated_Columns,axis=1,inplace=True)\n",
    "\n"
   ]
  },
  {
   "cell_type": "code",
   "execution_count": 6,
   "metadata": {},
   "outputs": [
    {
     "data": {
      "text/html": [
       "<div>\n",
       "<style scoped>\n",
       "    .dataframe tbody tr th:only-of-type {\n",
       "        vertical-align: middle;\n",
       "    }\n",
       "\n",
       "    .dataframe tbody tr th {\n",
       "        vertical-align: top;\n",
       "    }\n",
       "\n",
       "    .dataframe thead th {\n",
       "        text-align: right;\n",
       "    }\n",
       "</style>\n",
       "<table border=\"1\" class=\"dataframe\">\n",
       "  <thead>\n",
       "    <tr style=\"text-align: right;\">\n",
       "      <th></th>\n",
       "      <th>Year</th>\n",
       "      <th>Month</th>\n",
       "      <th>Day</th>\n",
       "      <th>Hour</th>\n",
       "      <th>Minute</th>\n",
       "      <th>Clearsky DHI</th>\n",
       "      <th>Clearsky DNI</th>\n",
       "      <th>Cloud Type</th>\n",
       "      <th>Dew Point</th>\n",
       "      <th>Temperature</th>\n",
       "      <th>Pressure</th>\n",
       "      <th>Relative Humidity</th>\n",
       "      <th>Solar Zenith Angle</th>\n",
       "      <th>Precipitable Water</th>\n",
       "      <th>Wind Direction</th>\n",
       "      <th>Wind Speed</th>\n",
       "      <th>Fill Flag</th>\n",
       "    </tr>\n",
       "  </thead>\n",
       "  <tbody>\n",
       "    <tr>\n",
       "      <th>0</th>\n",
       "      <td>2009</td>\n",
       "      <td>1</td>\n",
       "      <td>1</td>\n",
       "      <td>0</td>\n",
       "      <td>0</td>\n",
       "      <td>0</td>\n",
       "      <td>0</td>\n",
       "      <td>0</td>\n",
       "      <td>0.0</td>\n",
       "      <td>5.0</td>\n",
       "      <td>1010</td>\n",
       "      <td>75.34</td>\n",
       "      <td>106.15</td>\n",
       "      <td>0.499</td>\n",
       "      <td>346.1</td>\n",
       "      <td>3.1</td>\n",
       "      <td>0</td>\n",
       "    </tr>\n",
       "    <tr>\n",
       "      <th>1</th>\n",
       "      <td>2009</td>\n",
       "      <td>1</td>\n",
       "      <td>1</td>\n",
       "      <td>0</td>\n",
       "      <td>30</td>\n",
       "      <td>0</td>\n",
       "      <td>0</td>\n",
       "      <td>0</td>\n",
       "      <td>1.0</td>\n",
       "      <td>5.0</td>\n",
       "      <td>1010</td>\n",
       "      <td>80.81</td>\n",
       "      <td>112.28</td>\n",
       "      <td>0.490</td>\n",
       "      <td>346.1</td>\n",
       "      <td>3.1</td>\n",
       "      <td>0</td>\n",
       "    </tr>\n",
       "    <tr>\n",
       "      <th>2</th>\n",
       "      <td>2009</td>\n",
       "      <td>1</td>\n",
       "      <td>1</td>\n",
       "      <td>1</td>\n",
       "      <td>0</td>\n",
       "      <td>0</td>\n",
       "      <td>0</td>\n",
       "      <td>4</td>\n",
       "      <td>0.0</td>\n",
       "      <td>5.0</td>\n",
       "      <td>1010</td>\n",
       "      <td>78.27</td>\n",
       "      <td>118.50</td>\n",
       "      <td>0.482</td>\n",
       "      <td>347.9</td>\n",
       "      <td>3.2</td>\n",
       "      <td>0</td>\n",
       "    </tr>\n",
       "    <tr>\n",
       "      <th>3</th>\n",
       "      <td>2009</td>\n",
       "      <td>1</td>\n",
       "      <td>1</td>\n",
       "      <td>1</td>\n",
       "      <td>30</td>\n",
       "      <td>0</td>\n",
       "      <td>0</td>\n",
       "      <td>4</td>\n",
       "      <td>0.0</td>\n",
       "      <td>4.0</td>\n",
       "      <td>1010</td>\n",
       "      <td>78.27</td>\n",
       "      <td>124.78</td>\n",
       "      <td>0.478</td>\n",
       "      <td>347.9</td>\n",
       "      <td>3.1</td>\n",
       "      <td>0</td>\n",
       "    </tr>\n",
       "    <tr>\n",
       "      <th>4</th>\n",
       "      <td>2009</td>\n",
       "      <td>1</td>\n",
       "      <td>1</td>\n",
       "      <td>2</td>\n",
       "      <td>0</td>\n",
       "      <td>0</td>\n",
       "      <td>0</td>\n",
       "      <td>4</td>\n",
       "      <td>0.0</td>\n",
       "      <td>4.0</td>\n",
       "      <td>1010</td>\n",
       "      <td>76.45</td>\n",
       "      <td>131.12</td>\n",
       "      <td>0.475</td>\n",
       "      <td>350.0</td>\n",
       "      <td>3.0</td>\n",
       "      <td>0</td>\n",
       "    </tr>\n",
       "    <tr>\n",
       "      <th>...</th>\n",
       "      <td>...</td>\n",
       "      <td>...</td>\n",
       "      <td>...</td>\n",
       "      <td>...</td>\n",
       "      <td>...</td>\n",
       "      <td>...</td>\n",
       "      <td>...</td>\n",
       "      <td>...</td>\n",
       "      <td>...</td>\n",
       "      <td>...</td>\n",
       "      <td>...</td>\n",
       "      <td>...</td>\n",
       "      <td>...</td>\n",
       "      <td>...</td>\n",
       "      <td>...</td>\n",
       "      <td>...</td>\n",
       "      <td>...</td>\n",
       "    </tr>\n",
       "    <tr>\n",
       "      <th>140231</th>\n",
       "      <td>2016</td>\n",
       "      <td>12</td>\n",
       "      <td>31</td>\n",
       "      <td>11</td>\n",
       "      <td>30</td>\n",
       "      <td>0</td>\n",
       "      <td>0</td>\n",
       "      <td>0</td>\n",
       "      <td>-2.0</td>\n",
       "      <td>1.0</td>\n",
       "      <td>1010</td>\n",
       "      <td>78.02</td>\n",
       "      <td>103.65</td>\n",
       "      <td>1.156</td>\n",
       "      <td>162.3</td>\n",
       "      <td>0.9</td>\n",
       "      <td>1</td>\n",
       "    </tr>\n",
       "    <tr>\n",
       "      <th>140232</th>\n",
       "      <td>2016</td>\n",
       "      <td>12</td>\n",
       "      <td>31</td>\n",
       "      <td>12</td>\n",
       "      <td>0</td>\n",
       "      <td>0</td>\n",
       "      <td>0</td>\n",
       "      <td>0</td>\n",
       "      <td>-2.0</td>\n",
       "      <td>1.0</td>\n",
       "      <td>1010</td>\n",
       "      <td>78.56</td>\n",
       "      <td>97.69</td>\n",
       "      <td>1.199</td>\n",
       "      <td>158.2</td>\n",
       "      <td>1.0</td>\n",
       "      <td>1</td>\n",
       "    </tr>\n",
       "    <tr>\n",
       "      <th>140233</th>\n",
       "      <td>2016</td>\n",
       "      <td>12</td>\n",
       "      <td>31</td>\n",
       "      <td>12</td>\n",
       "      <td>30</td>\n",
       "      <td>0</td>\n",
       "      <td>0</td>\n",
       "      <td>0</td>\n",
       "      <td>-2.0</td>\n",
       "      <td>2.0</td>\n",
       "      <td>1010</td>\n",
       "      <td>73.13</td>\n",
       "      <td>91.88</td>\n",
       "      <td>1.261</td>\n",
       "      <td>158.2</td>\n",
       "      <td>1.1</td>\n",
       "      <td>1</td>\n",
       "    </tr>\n",
       "    <tr>\n",
       "      <th>140234</th>\n",
       "      <td>2016</td>\n",
       "      <td>12</td>\n",
       "      <td>31</td>\n",
       "      <td>13</td>\n",
       "      <td>0</td>\n",
       "      <td>23</td>\n",
       "      <td>285</td>\n",
       "      <td>0</td>\n",
       "      <td>-1.0</td>\n",
       "      <td>3.0</td>\n",
       "      <td>1010</td>\n",
       "      <td>74.55</td>\n",
       "      <td>86.26</td>\n",
       "      <td>1.323</td>\n",
       "      <td>155.0</td>\n",
       "      <td>1.3</td>\n",
       "      <td>1</td>\n",
       "    </tr>\n",
       "    <tr>\n",
       "      <th>140235</th>\n",
       "      <td>2016</td>\n",
       "      <td>12</td>\n",
       "      <td>31</td>\n",
       "      <td>13</td>\n",
       "      <td>30</td>\n",
       "      <td>44</td>\n",
       "      <td>510</td>\n",
       "      <td>0</td>\n",
       "      <td>-1.0</td>\n",
       "      <td>4.0</td>\n",
       "      <td>1010</td>\n",
       "      <td>69.49</td>\n",
       "      <td>80.88</td>\n",
       "      <td>1.377</td>\n",
       "      <td>155.0</td>\n",
       "      <td>1.5</td>\n",
       "      <td>1</td>\n",
       "    </tr>\n",
       "  </tbody>\n",
       "</table>\n",
       "<p>140236 rows × 17 columns</p>\n",
       "</div>"
      ],
      "text/plain": [
       "        Year  Month  Day  Hour  Minute  Clearsky DHI  Clearsky DNI  \\\n",
       "0       2009      1    1     0       0             0             0   \n",
       "1       2009      1    1     0      30             0             0   \n",
       "2       2009      1    1     1       0             0             0   \n",
       "3       2009      1    1     1      30             0             0   \n",
       "4       2009      1    1     2       0             0             0   \n",
       "...      ...    ...  ...   ...     ...           ...           ...   \n",
       "140231  2016     12   31    11      30             0             0   \n",
       "140232  2016     12   31    12       0             0             0   \n",
       "140233  2016     12   31    12      30             0             0   \n",
       "140234  2016     12   31    13       0            23           285   \n",
       "140235  2016     12   31    13      30            44           510   \n",
       "\n",
       "        Cloud Type  Dew Point  Temperature  Pressure  Relative Humidity  \\\n",
       "0                0        0.0          5.0      1010              75.34   \n",
       "1                0        1.0          5.0      1010              80.81   \n",
       "2                4        0.0          5.0      1010              78.27   \n",
       "3                4        0.0          4.0      1010              78.27   \n",
       "4                4        0.0          4.0      1010              76.45   \n",
       "...            ...        ...          ...       ...                ...   \n",
       "140231           0       -2.0          1.0      1010              78.02   \n",
       "140232           0       -2.0          1.0      1010              78.56   \n",
       "140233           0       -2.0          2.0      1010              73.13   \n",
       "140234           0       -1.0          3.0      1010              74.55   \n",
       "140235           0       -1.0          4.0      1010              69.49   \n",
       "\n",
       "        Solar Zenith Angle  Precipitable Water  Wind Direction  Wind Speed  \\\n",
       "0                   106.15               0.499           346.1         3.1   \n",
       "1                   112.28               0.490           346.1         3.1   \n",
       "2                   118.50               0.482           347.9         3.2   \n",
       "3                   124.78               0.478           347.9         3.1   \n",
       "4                   131.12               0.475           350.0         3.0   \n",
       "...                    ...                 ...             ...         ...   \n",
       "140231              103.65               1.156           162.3         0.9   \n",
       "140232               97.69               1.199           158.2         1.0   \n",
       "140233               91.88               1.261           158.2         1.1   \n",
       "140234               86.26               1.323           155.0         1.3   \n",
       "140235               80.88               1.377           155.0         1.5   \n",
       "\n",
       "        Fill Flag  \n",
       "0               0  \n",
       "1               0  \n",
       "2               0  \n",
       "3               0  \n",
       "4               0  \n",
       "...           ...  \n",
       "140231          1  \n",
       "140232          1  \n",
       "140233          1  \n",
       "140234          1  \n",
       "140235          1  \n",
       "\n",
       "[140236 rows x 17 columns]"
      ]
     },
     "execution_count": 6,
     "metadata": {},
     "output_type": "execute_result"
    }
   ],
   "source": [
    "train"
   ]
  },
  {
   "cell_type": "code",
   "execution_count": 7,
   "metadata": {},
   "outputs": [
    {
     "name": "stderr",
     "output_type": "stream",
     "text": [
      "C:\\Users\\burak\\AppData\\Local\\Temp/ipykernel_11332/3499051208.py:1: SettingWithCopyWarning: \n",
      "A value is trying to be set on a copy of a slice from a DataFrame.\n",
      "Try using .loc[row_indexer,col_indexer] = value instead\n",
      "\n",
      "See the caveats in the documentation: https://pandas.pydata.org/pandas-docs/stable/user_guide/indexing.html#returning-a-view-versus-a-copy\n",
      "  train[\"Datetime\"] = pd.to_datetime(train[['Year', 'Month', 'Day', 'Hour', 'Minute']])\n",
      "C:\\Users\\burak\\AppData\\Local\\Temp/ipykernel_11332/3499051208.py:2: SettingWithCopyWarning: \n",
      "A value is trying to be set on a copy of a slice from a DataFrame.\n",
      "Try using .loc[row_indexer,col_indexer] = value instead\n",
      "\n",
      "See the caveats in the documentation: https://pandas.pydata.org/pandas-docs/stable/user_guide/indexing.html#returning-a-view-versus-a-copy\n",
      "  test[\"Datetime\"] = pd.to_datetime(test[['Year', 'Month', 'Day', 'Hour', 'Minute']])\n"
     ]
    }
   ],
   "source": [
    "train[\"Datetime\"] = pd.to_datetime(train[['Year', 'Month', 'Day', 'Hour', 'Minute']])\n",
    "test[\"Datetime\"] = pd.to_datetime(test[['Year', 'Month', 'Day', 'Hour', 'Minute']])"
   ]
  },
  {
   "cell_type": "code",
   "execution_count": 8,
   "metadata": {},
   "outputs": [],
   "source": [
    "train.set_index(\"Datetime\",inplace=True)\n",
    "test.set_index(\"Datetime\",inplace=True)"
   ]
  },
  {
   "cell_type": "code",
   "execution_count": 9,
   "metadata": {},
   "outputs": [
    {
     "name": "stderr",
     "output_type": "stream",
     "text": [
      "C:\\Users\\burak\\AppData\\Local\\Temp/ipykernel_11332/2400044252.py:1: SettingWithCopyWarning: \n",
      "A value is trying to be set on a copy of a slice from a DataFrame\n",
      "\n",
      "See the caveats in the documentation: https://pandas.pydata.org/pandas-docs/stable/user_guide/indexing.html#returning-a-view-versus-a-copy\n",
      "  train.drop([\"Year\",\"Month\",\"Day\",\"Hour\",\"Minute\"],axis=1,inplace=True)\n",
      "C:\\Users\\burak\\AppData\\Local\\Temp/ipykernel_11332/2400044252.py:2: SettingWithCopyWarning: \n",
      "A value is trying to be set on a copy of a slice from a DataFrame\n",
      "\n",
      "See the caveats in the documentation: https://pandas.pydata.org/pandas-docs/stable/user_guide/indexing.html#returning-a-view-versus-a-copy\n",
      "  test.drop([\"Year\",\"Month\",\"Day\",\"Hour\",\"Minute\"],axis=1,inplace=True)\n"
     ]
    }
   ],
   "source": [
    "train.drop([\"Year\",\"Month\",\"Day\",\"Hour\",\"Minute\"],axis=1,inplace=True)\n",
    "test.drop([\"Year\",\"Month\",\"Day\",\"Hour\",\"Minute\"],axis=1,inplace=True)"
   ]
  },
  {
   "cell_type": "code",
   "execution_count": 10,
   "metadata": {},
   "outputs": [],
   "source": [
    "train = Scaler.fit_transform(train)\n",
    "test = Scaler.fit_transform(test)\n",
    "\n",
    "train_GHI = Scaler.fit_transform(train_GHI.reshape(-1,1))\n",
    "test_GHI = Scaler.fit_transform(test_GHI.reshape(-1,1))"
   ]
  },
  {
   "cell_type": "code",
   "execution_count": 11,
   "metadata": {},
   "outputs": [],
   "source": [
    "def createSequence(data,window_size):\n",
    "    sequences = []\n",
    "    for i in range(0,len(data) - window_size +1):\n",
    "        sequence = data[i:i+window_size]\n",
    "        sequences.append(sequence)\n",
    "    return np.array(sequences)\n",
    "\n",
    "sequences_96 = createSequence(train,window_size=96) # 2 day"
   ]
  },
  {
   "cell_type": "code",
   "execution_count": 45,
   "metadata": {},
   "outputs": [],
   "source": [
    "train_GHI_96  = createSequence(train_GHI,window_size=96)\n",
    "test_GHI_96 = createSequence(test_GHI,window_size=96)"
   ]
  },
  {
   "cell_type": "code",
   "execution_count": 13,
   "metadata": {},
   "outputs": [],
   "source": [
    "def createModel(lr):\n",
    "    model = Sequential()\n",
    "    model.add(LSTM(32,input_shape=(96,12),return_sequences=True))\n",
    "    #model.add(LSTM(64))\n",
    "    model.add(Dense(16,activation=\"relu\"))\n",
    "    model.add(Dense(1,activation=\"relu\"))\n",
    "    model.compile(loss=\"mse\",optimizer=Adam(learning_rate=lr),metrics=[\"mse\"])\n",
    "    return model"
   ]
  },
  {
   "cell_type": "code",
   "execution_count": 56,
   "metadata": {},
   "outputs": [
    {
     "name": "stdout",
     "output_type": "stream",
     "text": [
      "Model: \"sequential_9\"\n",
      "_________________________________________________________________\n",
      " Layer (type)                Output Shape              Param #   \n",
      "=================================================================\n",
      " lstm_9 (LSTM)               (None, 96, 32)            5760      \n",
      "                                                                 \n",
      " dense_18 (Dense)            (None, 96, 16)            528       \n",
      "                                                                 \n",
      " dense_19 (Dense)            (None, 96, 1)             17        \n",
      "                                                                 \n",
      "=================================================================\n",
      "Total params: 6,305\n",
      "Trainable params: 6,305\n",
      "Non-trainable params: 0\n",
      "_________________________________________________________________\n"
     ]
    }
   ],
   "source": [
    "dummy_model = createModel(1)\n",
    "dummy_model.summary()"
   ]
  },
  {
   "cell_type": "code",
   "execution_count": 14,
   "metadata": {},
   "outputs": [],
   "source": [
    "lr = [0.001,0.0001,0.00001]\n",
    "batch_size = [16,32]"
   ]
  },
  {
   "cell_type": "code",
   "execution_count": 15,
   "metadata": {},
   "outputs": [],
   "source": [
    "m1 = createModel(lr[0])\n",
    "m2 = createModel(lr[0])\n",
    "m3 = createModel(lr[1])\n",
    "m4 = createModel(lr[1])\n",
    "m5 = createModel(lr[2])\n",
    "m6 = createModel(lr[2])"
   ]
  },
  {
   "cell_type": "code",
   "execution_count": 16,
   "metadata": {},
   "outputs": [
    {
     "name": "stdout",
     "output_type": "stream",
     "text": [
      "Epoch 1/5\n",
      "7007/7007 [==============================] - 117s 16ms/step - loss: 5.8659e-04 - mse: 5.8659e-04 - val_loss: 1.9484e-05 - val_mse: 1.9484e-05\n",
      "Epoch 2/5\n",
      "7007/7007 [==============================] - 113s 16ms/step - loss: 1.2308e-05 - mse: 1.2308e-05 - val_loss: 6.7892e-06 - val_mse: 6.7892e-06\n",
      "Epoch 3/5\n",
      "7007/7007 [==============================] - 109s 16ms/step - loss: 5.3034e-06 - mse: 5.3034e-06 - val_loss: 2.8445e-06 - val_mse: 2.8445e-06\n",
      "Epoch 4/5\n",
      "7007/7007 [==============================] - 105s 15ms/step - loss: 3.2192e-06 - mse: 3.2192e-06 - val_loss: 2.2758e-06 - val_mse: 2.2758e-06\n",
      "Epoch 5/5\n",
      "7007/7007 [==============================] - 99s 14ms/step - loss: 2.3320e-06 - mse: 2.3320e-06 - val_loss: 1.0960e-06 - val_mse: 1.0960e-06\n"
     ]
    }
   ],
   "source": [
    "hist1 = m1.fit(sequences_96,train_GHI_96,epochs=5,batch_size=batch_size[0],validation_split=0.2)"
   ]
  },
  {
   "cell_type": "code",
   "execution_count": 17,
   "metadata": {},
   "outputs": [
    {
     "name": "stdout",
     "output_type": "stream",
     "text": [
      "Epoch 1/5\n",
      "3504/3504 [==============================] - 49s 14ms/step - loss: 0.0013 - mse: 0.0013 - val_loss: 4.8892e-05 - val_mse: 4.8892e-05\n",
      "Epoch 2/5\n",
      "3504/3504 [==============================] - 60s 17ms/step - loss: 2.3344e-05 - mse: 2.3344e-05 - val_loss: 3.3915e-05 - val_mse: 3.3915e-05\n",
      "Epoch 3/5\n",
      "3504/3504 [==============================] - 64s 18ms/step - loss: 1.1352e-05 - mse: 1.1352e-05 - val_loss: 9.2360e-06 - val_mse: 9.2360e-06\n",
      "Epoch 4/5\n",
      "3504/3504 [==============================] - 65s 19ms/step - loss: 7.1763e-06 - mse: 7.1763e-06 - val_loss: 5.4487e-06 - val_mse: 5.4487e-06\n",
      "Epoch 5/5\n",
      "3504/3504 [==============================] - 64s 18ms/step - loss: 5.0317e-06 - mse: 5.0317e-06 - val_loss: 8.4150e-06 - val_mse: 8.4150e-06\n"
     ]
    }
   ],
   "source": [
    "hist2 = m2.fit(sequences_96,train_GHI_96,epochs=5,batch_size=batch_size[1],validation_split=0.2)"
   ]
  },
  {
   "cell_type": "code",
   "execution_count": 18,
   "metadata": {},
   "outputs": [
    {
     "name": "stdout",
     "output_type": "stream",
     "text": [
      "Epoch 1/5\n",
      "7007/7007 [==============================] - 127s 18ms/step - loss: 0.0046 - mse: 0.0046 - val_loss: 2.9926e-04 - val_mse: 2.9926e-04\n",
      "Epoch 2/5\n",
      "7007/7007 [==============================] - 122s 17ms/step - loss: 1.1807e-04 - mse: 1.1807e-04 - val_loss: 4.8021e-05 - val_mse: 4.8021e-05\n",
      "Epoch 3/5\n",
      "7007/7007 [==============================] - 121s 17ms/step - loss: 3.1565e-05 - mse: 3.1565e-05 - val_loss: 2.2617e-05 - val_mse: 2.2617e-05\n",
      "Epoch 4/5\n",
      "7007/7007 [==============================] - 120s 17ms/step - loss: 1.7161e-05 - mse: 1.7161e-05 - val_loss: 1.3393e-05 - val_mse: 1.3393e-05\n",
      "Epoch 5/5\n",
      "7007/7007 [==============================] - 117s 17ms/step - loss: 1.1363e-05 - mse: 1.1363e-05 - val_loss: 1.0377e-05 - val_mse: 1.0377e-05\n"
     ]
    }
   ],
   "source": [
    "hist3 = m3.fit(sequences_96,train_GHI_96,epochs=5,batch_size=batch_size[0],validation_split=0.2)"
   ]
  },
  {
   "cell_type": "code",
   "execution_count": 19,
   "metadata": {},
   "outputs": [
    {
     "name": "stdout",
     "output_type": "stream",
     "text": [
      "Epoch 1/5\n",
      "3504/3504 [==============================] - 67s 18ms/step - loss: 0.0063 - mse: 0.0063 - val_loss: 6.7777e-04 - val_mse: 6.7777e-04\n",
      "Epoch 2/5\n",
      "3504/3504 [==============================] - 66s 19ms/step - loss: 3.1194e-04 - mse: 3.1194e-04 - val_loss: 1.4134e-04 - val_mse: 1.4134e-04\n",
      "Epoch 3/5\n",
      "3504/3504 [==============================] - 62s 18ms/step - loss: 7.7809e-05 - mse: 7.7809e-05 - val_loss: 4.6810e-05 - val_mse: 4.6810e-05\n",
      "Epoch 4/5\n",
      "3504/3504 [==============================] - 64s 18ms/step - loss: 2.8798e-05 - mse: 2.8798e-05 - val_loss: 2.0520e-05 - val_mse: 2.0520e-05\n",
      "Epoch 5/5\n",
      "3504/3504 [==============================] - 66s 19ms/step - loss: 1.4937e-05 - mse: 1.4937e-05 - val_loss: 1.2070e-05 - val_mse: 1.2070e-05\n"
     ]
    }
   ],
   "source": [
    "hist4 = m4.fit(sequences_96,train_GHI_96,epochs=5,batch_size=batch_size[1],validation_split=0.2)"
   ]
  },
  {
   "cell_type": "code",
   "execution_count": 20,
   "metadata": {},
   "outputs": [
    {
     "name": "stdout",
     "output_type": "stream",
     "text": [
      "Epoch 1/5\n",
      "7007/7007 [==============================] - 134s 19ms/step - loss: 0.0154 - mse: 0.0154 - val_loss: 0.0028 - val_mse: 0.0028\n",
      "Epoch 2/5\n",
      "7007/7007 [==============================] - 119s 17ms/step - loss: 0.0016 - mse: 0.0016 - val_loss: 9.6043e-04 - val_mse: 9.6043e-04\n",
      "Epoch 3/5\n",
      "7007/7007 [==============================] - 122s 17ms/step - loss: 6.4744e-04 - mse: 6.4744e-04 - val_loss: 4.7897e-04 - val_mse: 4.7897e-04\n",
      "Epoch 4/5\n",
      "7007/7007 [==============================] - 120s 17ms/step - loss: 3.6674e-04 - mse: 3.6675e-04 - val_loss: 3.0610e-04 - val_mse: 3.0610e-04\n",
      "Epoch 5/5\n",
      "7007/7007 [==============================] - 119s 17ms/step - loss: 2.4791e-04 - mse: 2.4791e-04 - val_loss: 2.1877e-04 - val_mse: 2.1877e-04\n"
     ]
    }
   ],
   "source": [
    "hist5 = m5.fit(sequences_96,train_GHI_96,epochs=5,batch_size=batch_size[0],validation_split=0.2)"
   ]
  },
  {
   "cell_type": "code",
   "execution_count": 21,
   "metadata": {},
   "outputs": [
    {
     "name": "stdout",
     "output_type": "stream",
     "text": [
      "Epoch 1/5\n",
      "3504/3504 [==============================] - 62s 17ms/step - loss: 0.0392 - mse: 0.0392 - val_loss: 0.0082 - val_mse: 0.0082\n",
      "Epoch 2/5\n",
      "3504/3504 [==============================] - 60s 17ms/step - loss: 0.0046 - mse: 0.0046 - val_loss: 0.0031 - val_mse: 0.0031\n",
      "Epoch 3/5\n",
      "3504/3504 [==============================] - 60s 17ms/step - loss: 0.0022 - mse: 0.0022 - val_loss: 0.0016 - val_mse: 0.0016\n",
      "Epoch 4/5\n",
      "3504/3504 [==============================] - 59s 17ms/step - loss: 0.0012 - mse: 0.0012 - val_loss: 8.6443e-04 - val_mse: 8.6443e-04\n",
      "Epoch 5/5\n",
      "3504/3504 [==============================] - 62s 18ms/step - loss: 6.5920e-04 - mse: 6.5920e-04 - val_loss: 5.3392e-04 - val_mse: 5.3392e-04\n"
     ]
    }
   ],
   "source": [
    "hist6 = m6.fit(sequences_96,train_GHI_96,epochs=5,batch_size=batch_size[1],validation_split=0.2)"
   ]
  },
  {
   "cell_type": "code",
   "execution_count": 22,
   "metadata": {},
   "outputs": [
    {
     "data": {
      "image/png": "[encoded data removed]",
      "text/plain": [
       "<Figure size 864x576 with 6 Axes>"
      ]
     },
     "metadata": {
      "needs_background": "light"
     },
     "output_type": "display_data"
    }
   ],
   "source": [
    "fig = plt.figure(figsize=(12,8))\n",
    "plt.subplot(2,3,1)\n",
    "plt.plot(hist1.history[\"loss\"],label=\"loss\")\n",
    "plt.plot(hist1.history[\"val_loss\"],label=\"val_loss\")\n",
    "plt.title(\"lr=0.001,bs=16\")\n",
    "plt.legend()\n",
    "plt.subplot(2,3,2)\n",
    "plt.plot(hist2.history[\"loss\"],label=\"loss\")\n",
    "plt.plot(hist2.history[\"val_loss\"],label=\"val_loss\")\n",
    "plt.title(\"lr=0.001,bs=32\")\n",
    "plt.legend()\n",
    "plt.subplot(2,3,3)\n",
    "plt.plot(hist3.history[\"loss\"],label=\"loss\")\n",
    "plt.plot(hist3.history[\"val_loss\"],label=\"val_loss\")\n",
    "plt.title(\"lr=0.0001,bs=16\")\n",
    "plt.legend()\n",
    "plt.subplot(2,3,4)\n",
    "plt.plot(hist4.history[\"loss\"],label=\"loss\")\n",
    "plt.plot(hist4.history[\"val_loss\"],label=\"val_loss\")\n",
    "plt.title(\"lr=0.0001,bs=32\")\n",
    "plt.legend()\n",
    "plt.subplot(2,3,5)\n",
    "plt.plot(hist5.history[\"loss\"],label=\"loss\")\n",
    "plt.plot(hist5.history[\"val_loss\"],label=\"val_loss\")\n",
    "plt.title(\"lr=0.00001,bs=16\")\n",
    "plt.legend()\n",
    "plt.subplot(2,3,6)\n",
    "plt.plot(hist6.history[\"loss\"],label=\"loss\")\n",
    "plt.plot(hist6.history[\"val_loss\"],label=\"val_loss\")\n",
    "plt.title(\"lr=0.00001,bs=32\")\n",
    "plt.legend()\n",
    "plt.show()"
   ]
  },
  {
   "cell_type": "code",
   "execution_count": 23,
   "metadata": {},
   "outputs": [
    {
     "data": {
      "text/plain": [
       "<matplotlib.legend.Legend at 0x27c16556220>"
      ]
     },
     "execution_count": 23,
     "metadata": {},
     "output_type": "execute_result"
    },
    {
     "data": {
      "image/png": "[encoded data removed]",
      "text/plain": [
       "<Figure size 432x288 with 1 Axes>"
      ]
     },
     "metadata": {
      "needs_background": "light"
     },
     "output_type": "display_data"
    }
   ],
   "source": [
    "plt.plot(hist1.history[\"val_loss\"],label=\"lr=0.001,bs=16\")\n",
    "plt.plot(hist2.history[\"val_loss\"],label=\"lr=0.001,bs=32\")\n",
    "plt.plot(hist3.history[\"val_loss\"],label=\"lr=0.0001,bs=16\")\n",
    "plt.plot(hist4.history[\"val_loss\"],label=\"lr=0.0001,bs=32\")\n",
    "plt.plot(hist5.history[\"val_loss\"],label=\"lr=0.00001,bs=16\")\n",
    "plt.plot(hist6.history[\"val_loss\"],label=\"lr=0.00001,bs=32\")\n",
    "plt.legend()\n"
   ]
  },
  {
   "cell_type": "code",
   "execution_count": 24,
   "metadata": {},
   "outputs": [
    {
     "data": {
      "image/png": "[encoded data removed]",
      "text/plain": [
       "<Figure size 432x288 with 1 Axes>"
      ]
     },
     "metadata": {
      "needs_background": "light"
     },
     "output_type": "display_data"
    }
   ],
   "source": [
    "plt.plot(hist1.history[\"val_loss\"],label=\"lr=0.001,bs=16\")\n",
    "plt.plot(hist2.history[\"val_loss\"],label=\"lr=0.001,bs=32\")\n",
    "plt.plot(hist3.history[\"val_loss\"],label=\"lr=0.0001,bs=16\")\n",
    "#plt.plot(hist4.history[\"val_loss\"],label=\"lr=0.0001,bs=32\")\n",
    "plt.legend()\n",
    "plt.show()"
   ]
  },
  {
   "cell_type": "markdown",
   "metadata": {},
   "source": [
    "### First setting gives the lowest validation error. (Learning rate = 0.001 , batch_size = 16)"
   ]
  },
  {
   "cell_type": "code",
   "execution_count": 25,
   "metadata": {},
   "outputs": [
    {
     "name": "stdout",
     "output_type": "stream",
     "text": [
      "Epoch 1/20\n",
      "7007/7007 [==============================] - 115s 16ms/step - loss: 6.6649e-04 - mse: 6.6649e-04 - val_loss: 1.9183e-05 - val_mse: 1.9183e-05\n",
      "Epoch 2/20\n",
      "7007/7007 [==============================] - 110s 16ms/step - loss: 1.1582e-05 - mse: 1.1582e-05 - val_loss: 5.2289e-06 - val_mse: 5.2289e-06\n",
      "Epoch 3/20\n",
      "7007/7007 [==============================] - 117s 17ms/step - loss: 5.9027e-06 - mse: 5.9027e-06 - val_loss: 2.5672e-06 - val_mse: 2.5672e-06\n",
      "Epoch 4/20\n",
      "7007/7007 [==============================] - 97s 14ms/step - loss: 3.9729e-06 - mse: 3.9729e-06 - val_loss: 2.0635e-06 - val_mse: 2.0635e-06\n",
      "Epoch 5/20\n",
      "7007/7007 [==============================] - 100s 14ms/step - loss: 2.8255e-06 - mse: 2.8255e-06 - val_loss: 7.8710e-06 - val_mse: 7.8710e-06\n",
      "Epoch 6/20\n",
      "7007/7007 [==============================] - 108s 15ms/step - loss: 2.2005e-06 - mse: 2.2005e-06 - val_loss: 1.8112e-06 - val_mse: 1.8112e-06\n",
      "Epoch 7/20\n",
      "7007/7007 [==============================] - 107s 15ms/step - loss: 1.8661e-06 - mse: 1.8661e-06 - val_loss: 6.8372e-07 - val_mse: 6.8372e-07\n",
      "Epoch 8/20\n",
      "7007/7007 [==============================] - 91s 13ms/step - loss: 1.5390e-06 - mse: 1.5390e-06 - val_loss: 1.0414e-06 - val_mse: 1.0414e-06\n",
      "Epoch 9/20\n",
      "7007/7007 [==============================] - 93s 13ms/step - loss: 1.3709e-06 - mse: 1.3709e-06 - val_loss: 4.8256e-07 - val_mse: 4.8256e-07\n",
      "Epoch 10/20\n",
      "7007/7007 [==============================] - 96s 14ms/step - loss: 1.2372e-06 - mse: 1.2372e-06 - val_loss: 2.1795e-06 - val_mse: 2.1795e-06\n",
      "Epoch 11/20\n",
      "7007/7007 [==============================] - 94s 13ms/step - loss: 1.0876e-06 - mse: 1.0876e-06 - val_loss: 5.1602e-07 - val_mse: 5.1602e-07\n",
      "Epoch 12/20\n",
      "7007/7007 [==============================] - 98s 14ms/step - loss: 1.0172e-06 - mse: 1.0172e-06 - val_loss: 3.9265e-07 - val_mse: 3.9265e-07\n",
      "Epoch 13/20\n",
      "7007/7007 [==============================] - 98s 14ms/step - loss: 9.0767e-07 - mse: 9.0767e-07 - val_loss: 3.3807e-07 - val_mse: 3.3807e-07\n",
      "Epoch 14/20\n",
      "7007/7007 [==============================] - 98s 14ms/step - loss: 8.6528e-07 - mse: 8.6528e-07 - val_loss: 2.9671e-07 - val_mse: 2.9671e-07\n",
      "Epoch 15/20\n",
      "7007/7007 [==============================] - 107s 15ms/step - loss: 7.9996e-07 - mse: 7.9996e-07 - val_loss: 3.7144e-07 - val_mse: 3.7144e-07\n",
      "Epoch 16/20\n",
      "7007/7007 [==============================] - 110s 16ms/step - loss: 7.8255e-07 - mse: 7.8255e-07 - val_loss: 2.3849e-06 - val_mse: 2.3849e-06\n",
      "Epoch 17/20\n",
      "7007/7007 [==============================] - 116s 17ms/step - loss: 6.9907e-07 - mse: 6.9907e-07 - val_loss: 3.2860e-06 - val_mse: 3.2860e-06\n",
      "Epoch 18/20\n",
      "7007/7007 [==============================] - 119s 17ms/step - loss: 6.8178e-07 - mse: 6.8178e-07 - val_loss: 3.3075e-07 - val_mse: 3.3075e-07\n",
      "Epoch 19/20\n",
      "7007/7007 [==============================] - 119s 17ms/step - loss: 6.4118e-07 - mse: 6.4119e-07 - val_loss: 3.5567e-07 - val_mse: 3.5567e-07\n",
      "Epoch 20/20\n",
      "7007/7007 [==============================] - 120s 17ms/step - loss: 5.9858e-07 - mse: 5.9857e-07 - val_loss: 3.6259e-07 - val_mse: 3.6259e-07\n"
     ]
    }
   ],
   "source": [
    "best_model = createModel(lr = 0.001)\n",
    "hist_b = best_model.fit(sequences_96,train_GHI_96,epochs=20,batch_size=16,validation_split=0.2)"
   ]
  },
  {
   "cell_type": "code",
   "execution_count": 28,
   "metadata": {},
   "outputs": [
    {
     "data": {
      "image/png": "[encoded data removed]",
      "text/plain": [
       "<Figure size 432x288 with 1 Axes>"
      ]
     },
     "metadata": {
      "needs_background": "light"
     },
     "output_type": "display_data"
    }
   ],
   "source": [
    "plt.plot(hist_b.history[\"loss\"][1:],label=\"loss\")\n",
    "plt.plot(hist_b.history[\"val_loss\"][1:],label=\"val_loss\")\n",
    "plt.legend()\n",
    "plt.show()"
   ]
  },
  {
   "cell_type": "code",
   "execution_count": 31,
   "metadata": {},
   "outputs": [
    {
     "name": "stdout",
     "output_type": "stream",
     "text": [
      "1093/1093 [==============================] - 8s 7ms/step\n"
     ]
    }
   ],
   "source": [
    "predictions = best_model.predict(createSequence(test,window_size=96))\n",
    "\n"
   ]
  },
  {
   "cell_type": "code",
   "execution_count": 50,
   "metadata": {},
   "outputs": [
    {
     "name": "stdout",
     "output_type": "stream",
     "text": [
      "0.0006758569247773029\n"
     ]
    }
   ],
   "source": [
    "test_GHI_96 = test_GHI_96.reshape((test_GHI_96.shape[0],test_GHI_96.shape[1]))\n",
    "predictions = predictions.reshape((predictions.shape[0],predictions.shape[1]))\n",
    "\n",
    "\n",
    "\n",
    "mse = mean_squared_error(test_GHI_96,predictions)\n",
    "\n",
    "print(mse)"
   ]
  },
  {
   "cell_type": "code",
   "execution_count": 54,
   "metadata": {},
   "outputs": [],
   "source": [
    "tf.keras.models.save_model(best_model,\"best_model_LSTM.h5\")"
   ]
  },
  {
   "cell_type": "code",
   "execution_count": null,
   "metadata": {},
   "outputs": [],
   "source": []
  }
 ],
 "metadata": {
  "kernelspec": {
   "display_name": "tf",
   "language": "python",
   "name": "python3"
  },
  "language_info": {
   "codemirror_mode": {
    "name": "ipython",
    "version": 3
   },
   "file_extension": ".py",
   "mimetype": "text/x-python",
   "name": "python",
   "nbconvert_exporter": "python",
   "pygments_lexer": "ipython3",
   "version": "3.9.17"
  }
 },
 "nbformat": 4,
 "nbformat_minor": 2
}
