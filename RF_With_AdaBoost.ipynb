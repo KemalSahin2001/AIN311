{
 "cells": [
  {
   "cell_type": "code",
   "execution_count": 1,
   "metadata": {},
   "outputs": [],
   "source": [
    "import numpy as np\n",
    "import pandas as pd\n",
    "import matplotlib.pyplot as plt\n",
    "from sklearn.ensemble import RandomForestRegressor, AdaBoostRegressor\n",
    "from sklearn.model_selection import train_test_split\n",
    "from sklearn.metrics import mean_squared_error\n",
    "from sklearn.preprocessing import MinMaxScaler\n",
    "from sklearn.model_selection import GridSearchCV\n",
    "from sklearn.model_selection import learning_curve\n",
    "import torch\n",
    "import numpy as np"
   ]
  },
  {
   "cell_type": "code",
   "execution_count": 2,
   "metadata": {},
   "outputs": [],
   "source": [
    "df = pd.read_csv(\"train.csv\")"
   ]
  },
  {
   "cell_type": "code",
   "execution_count": 3,
   "metadata": {},
   "outputs": [],
   "source": [
    "# Since time information is not important, we can drop it.\n",
    "Time_columns = [\"Year\",\"Month\",\"Hour\",\"Minute\",\"Day\"]\n",
    "\n",
    "df.drop(Time_columns,axis=1,inplace=True)"
   ]
  },
  {
   "cell_type": "code",
   "execution_count": 4,
   "metadata": {},
   "outputs": [],
   "source": [
    "df.drop(['Clearsky DHI', 'Clearsky DNI'], axis=1, inplace=True)"
   ]
  },
  {
   "cell_type": "code",
   "execution_count": 5,
   "metadata": {},
   "outputs": [],
   "source": [
    "target = df['Clearsky GHI']\n",
    "features = df.drop('Clearsky GHI', axis=1)\n"
   ]
  },
  {
   "cell_type": "code",
   "execution_count": 10,
   "metadata": {},
   "outputs": [],
   "source": [
    "scaler = MinMaxScaler()\n",
    "\n",
    "# Fit and transform the target variable\n",
    "target_scaled = scaler.fit_transform(target.values.reshape(-1, 1))\n",
    "\n",
    "# Fit and transform the features\n",
    "features_scaled = scaler.fit_transform(features)\n",
    "\n",
    "# Convert the scaled arrays back to DataFrame if needed\n",
    "target_scaled_df = pd.DataFrame(target_scaled, columns=['Clearsky GHI'])\n",
    "features_scaled_df = pd.DataFrame(features_scaled, columns=features.columns)\n"
   ]
  },
  {
   "cell_type": "code",
   "execution_count": 11,
   "metadata": {},
   "outputs": [],
   "source": [
    "train_x, test_x, train_y, test_y = train_test_split(features_scaled, target_scaled, test_size=0.2, random_state=42)"
   ]
  },
  {
   "cell_type": "code",
   "execution_count": 12,
   "metadata": {},
   "outputs": [],
   "source": [
    "Errors_rmse_GHI_rf = []\n",
    "Errors_rmse_GHI_ab = []\n",
    "all_columns = df.columns"
   ]
  },
  {
   "cell_type": "code",
   "execution_count": 13,
   "metadata": {},
   "outputs": [
    {
     "name": "stderr",
     "output_type": "stream",
     "text": [
      "<ipython-input-13-298c855450b9>:2: DataConversionWarning: A column-vector y was passed when a 1d array was expected. Please change the shape of y to (n_samples,), for example using ravel().\n",
      "  RFR_GHI.fit(train_x, train_y)\n"
     ]
    },
    {
     "name": "stdout",
     "output_type": "stream",
     "text": [
      "MSE for Random Forest: 6.592008384116039e-05\n"
     ]
    }
   ],
   "source": [
    "RFR_GHI = RandomForestRegressor()\n",
    "RFR_GHI.fit(train_x, train_y)\n",
    "preds_GHI_rf = RFR_GHI.predict(test_x)\n",
    "rmse_rf = mean_squared_error(preds_GHI_rf,test_y)\n",
    "\n",
    "print(\"MSE for Random Forest:\", rmse_rf)\n"
   ]
  },
  {
   "cell_type": "code",
   "execution_count": 14,
   "metadata": {},
   "outputs": [],
   "source": [
    "Errors_rmse_GHI_rf.append(rmse_rf)"
   ]
  },
  {
   "cell_type": "code",
   "execution_count": 15,
   "metadata": {},
   "outputs": [
    {
     "name": "stderr",
     "output_type": "stream",
     "text": [
      "c:\\Users\\TOES\\anaconda3\\lib\\site-packages\\sklearn\\utils\\validation.py:1141: DataConversionWarning: A column-vector y was passed when a 1d array was expected. Please change the shape of y to (n_samples, ), for example using ravel().\n",
      "  y = column_or_1d(y, warn=True)\n"
     ]
    },
    {
     "name": "stdout",
     "output_type": "stream",
     "text": [
      "RMSE for AdaBoost with Random Forest: 6.376210718878431e-05\n"
     ]
    }
   ],
   "source": [
    "ABR_GHI = AdaBoostRegressor(estimator=RFR_GHI, n_estimators=50, learning_rate=1.0, random_state=42)\n",
    "ABR_GHI.fit(train_x, train_y)\n",
    "preds_GHI_ab = ABR_GHI.predict(test_x)\n",
    "rmse_ab = mean_squared_error(preds_GHI_ab, test_y)\n",
    "\n",
    "\n",
    "print(\"RMSE for AdaBoost with Random Forest:\", rmse_ab)\n",
    "\n",
    "\n",
    "Errors_rmse_GHI_ab.append(rmse_ab)"
   ]
  }
 ],
 "metadata": {
  "kernelspec": {
   "display_name": "base",
   "language": "python",
   "name": "python3"
  },
  "language_info": {
   "codemirror_mode": {
    "name": "ipython",
    "version": 3
   },
   "file_extension": ".py",
   "mimetype": "text/x-python",
   "name": "python",
   "nbconvert_exporter": "python",
   "pygments_lexer": "ipython3",
   "version": "3.8.3"
  }
 },
 "nbformat": 4,
 "nbformat_minor": 2
}
