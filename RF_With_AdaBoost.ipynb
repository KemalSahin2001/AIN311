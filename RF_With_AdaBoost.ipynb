{
 "cells": [
  {
   "cell_type": "code",
   "execution_count": 5,
   "metadata": {},
   "outputs": [],
   "source": [
    "import numpy as np\n",
    "import pandas as pd\n",
    "import matplotlib.pyplot as plt\n",
    "from sklearn.ensemble import RandomForestRegressor, AdaBoostRegressor\n",
    "from sklearn.model_selection import train_test_split\n",
    "from sklearn.metrics import mean_squared_error\n",
    "from sklearn.preprocessing import MinMaxScaler\n",
    "from sklearn.model_selection import GridSearchCV\n",
    "from sklearn.model_selection import learning_curve\n",
    "import torch\n",
    "import numpy as np"
   ]
  },
  {
   "cell_type": "code",
   "execution_count": 6,
   "metadata": {},
   "outputs": [],
   "source": [
    "df = pd.read_csv(\"train.csv\")"
   ]
  },
  {
   "cell_type": "code",
   "execution_count": 7,
   "metadata": {},
   "outputs": [],
   "source": [
    "# Since time information is not important, we can drop it.\n",
    "Time_columns = [\"Year\",\"Month\",\"Hour\",\"Minute\",\"Day\"]\n",
    "\n",
    "df.drop(Time_columns,axis=1,inplace=True)"
   ]
  },
  {
   "cell_type": "code",
   "execution_count": 8,
   "metadata": {},
   "outputs": [],
   "source": [
    "df.drop(['Clearsky DHI', 'Clearsky DNI'], axis=1, inplace=True)"
   ]
  },
  {
   "cell_type": "code",
   "execution_count": 9,
   "metadata": {},
   "outputs": [],
   "source": [
    "target = df['Clearsky GHI']\n",
    "features = df.drop('Clearsky GHI', axis=1)\n"
   ]
  },
  {
   "cell_type": "code",
   "execution_count": 10,
   "metadata": {},
   "outputs": [],
   "source": [
    "train_x, test_x, train_y, test_y = train_test_split(features, target, test_size=0.2, random_state=42)"
   ]
  },
  {
   "cell_type": "code",
   "execution_count": 11,
   "metadata": {},
   "outputs": [],
   "source": [
    "scaler = MinMaxScaler()\n",
    "train_x = scaler.fit_transform(train_x)\n",
    "test_x = scaler.transform(test_x)"
   ]
  },
  {
   "cell_type": "code",
   "execution_count": 12,
   "metadata": {},
   "outputs": [],
   "source": [
    "Errors_rmse_GHI_rf = []\n",
    "Errors_rmse_GHI_ab = []\n",
    "all_columns = df.columns"
   ]
  },
  {
   "cell_type": "code",
   "execution_count": 16,
   "metadata": {},
   "outputs": [
    {
     "name": "stdout",
     "output_type": "stream",
     "text": [
      "MSE for Random Forest: 74.31310474044494\n"
     ]
    }
   ],
   "source": [
    "RFR_GHI = RandomForestRegressor()\n",
    "RFR_GHI.fit(train_x, train_y)\n",
    "preds_GHI_rf = RFR_GHI.predict(test_x)\n",
    "rmse_rf = mean_squared_error(preds_GHI_rf,test_y)\n",
    "\n",
    "print(\"MSE for Random Forest:\", rmse_rf)\n"
   ]
  },
  {
   "cell_type": "code",
   "execution_count": 20,
   "metadata": {},
   "outputs": [],
   "source": [
    "Errors_rmse_GHI_rf.append(rmse_rf)"
   ]
  },
  {
   "cell_type": "code",
   "execution_count": 21,
   "metadata": {},
   "outputs": [
    {
     "name": "stdout",
     "output_type": "stream",
     "text": [
      "RMSE for AdaBoost with Random Forest: 71.87495136908157\n"
     ]
    }
   ],
   "source": [
    "ABR_GHI = AdaBoostRegressor(estimator=RFR_GHI, n_estimators=50, learning_rate=1.0, random_state=42)\n",
    "ABR_GHI.fit(train_x, train_y)\n",
    "preds_GHI_ab = ABR_GHI.predict(test_x)\n",
    "rmse_ab = mean_squared_error(preds_GHI_ab, test_y)\n",
    "\n",
    "\n",
    "print(\"RMSE for AdaBoost with Random Forest:\", rmse_ab)\n",
    "\n",
    "\n",
    "Errors_rmse_GHI_ab.append(rmse_ab)"
   ]
  }
 ],
 "metadata": {
  "kernelspec": {
   "display_name": "base",
   "language": "python",
   "name": "python3"
  },
  "language_info": {
   "codemirror_mode": {
    "name": "ipython",
    "version": 3
   },
   "file_extension": ".py",
   "mimetype": "text/x-python",
   "name": "python",
   "nbconvert_exporter": "python",
   "pygments_lexer": "ipython3",
   "version": "3.8.3"
  }
 },
 "nbformat": 4,
 "nbformat_minor": 2
}
